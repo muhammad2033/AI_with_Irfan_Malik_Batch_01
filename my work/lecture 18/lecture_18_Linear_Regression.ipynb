{
 "cells": [
  {
   "cell_type": "markdown",
   "metadata": {
    "id": "9Smxtt89WnNp"
   },
   "source": [
    "## **Install all packages**"
   ]
  },
  {
   "cell_type": "code",
   "execution_count": 1,
   "metadata": {
    "colab": {
     "base_uri": "https://localhost:8080/"
    },
    "id": "0moKmYpKVAA0",
    "outputId": "afbce3fe-72d9-4947-9186-195da8002f38"
   },
   "outputs": [
    {
     "name": "stdout",
     "output_type": "stream",
     "text": [
      "Requirement already satisfied: pandas in /usr/local/lib/python3.10/dist-packages (1.5.3)\n",
      "Requirement already satisfied: python-dateutil>=2.8.1 in /usr/local/lib/python3.10/dist-packages (from pandas) (2.8.2)\n",
      "Requirement already satisfied: pytz>=2020.1 in /usr/local/lib/python3.10/dist-packages (from pandas) (2023.3)\n",
      "Requirement already satisfied: numpy>=1.21.0 in /usr/local/lib/python3.10/dist-packages (from pandas) (1.23.5)\n",
      "Requirement already satisfied: six>=1.5 in /usr/local/lib/python3.10/dist-packages (from python-dateutil>=2.8.1->pandas) (1.16.0)\n"
     ]
    }
   ],
   "source": [
    "pip install pandas"
   ]
  },
  {
   "cell_type": "code",
   "execution_count": 2,
   "metadata": {
    "colab": {
     "base_uri": "https://localhost:8080/"
    },
    "id": "MHtLsvO3VhUr",
    "outputId": "ed5ab625-f71f-4999-e3f4-aab542677333"
   },
   "outputs": [
    {
     "name": "stdout",
     "output_type": "stream",
     "text": [
      "Requirement already satisfied: numpy in /usr/local/lib/python3.10/dist-packages (1.23.5)\n"
     ]
    }
   ],
   "source": [
    "pip install numpy"
   ]
  },
  {
   "cell_type": "code",
   "execution_count": 3,
   "metadata": {
    "colab": {
     "base_uri": "https://localhost:8080/"
    },
    "id": "Ygc889pXVpG4",
    "outputId": "27e19b8a-f626-4368-aadf-443cff94bcb2"
   },
   "outputs": [
    {
     "name": "stdout",
     "output_type": "stream",
     "text": [
      "Requirement already satisfied: seaborn in /usr/local/lib/python3.10/dist-packages (0.12.2)\n",
      "Requirement already satisfied: numpy!=1.24.0,>=1.17 in /usr/local/lib/python3.10/dist-packages (from seaborn) (1.23.5)\n",
      "Requirement already satisfied: pandas>=0.25 in /usr/local/lib/python3.10/dist-packages (from seaborn) (1.5.3)\n",
      "Requirement already satisfied: matplotlib!=3.6.1,>=3.1 in /usr/local/lib/python3.10/dist-packages (from seaborn) (3.7.1)\n",
      "Requirement already satisfied: contourpy>=1.0.1 in /usr/local/lib/python3.10/dist-packages (from matplotlib!=3.6.1,>=3.1->seaborn) (1.1.0)\n",
      "Requirement already satisfied: cycler>=0.10 in /usr/local/lib/python3.10/dist-packages (from matplotlib!=3.6.1,>=3.1->seaborn) (0.11.0)\n",
      "Requirement already satisfied: fonttools>=4.22.0 in /usr/local/lib/python3.10/dist-packages (from matplotlib!=3.6.1,>=3.1->seaborn) (4.42.0)\n",
      "Requirement already satisfied: kiwisolver>=1.0.1 in /usr/local/lib/python3.10/dist-packages (from matplotlib!=3.6.1,>=3.1->seaborn) (1.4.4)\n",
      "Requirement already satisfied: packaging>=20.0 in /usr/local/lib/python3.10/dist-packages (from matplotlib!=3.6.1,>=3.1->seaborn) (23.1)\n",
      "Requirement already satisfied: pillow>=6.2.0 in /usr/local/lib/python3.10/dist-packages (from matplotlib!=3.6.1,>=3.1->seaborn) (9.4.0)\n",
      "Requirement already satisfied: pyparsing>=2.3.1 in /usr/local/lib/python3.10/dist-packages (from matplotlib!=3.6.1,>=3.1->seaborn) (3.1.1)\n",
      "Requirement already satisfied: python-dateutil>=2.7 in /usr/local/lib/python3.10/dist-packages (from matplotlib!=3.6.1,>=3.1->seaborn) (2.8.2)\n",
      "Requirement already satisfied: pytz>=2020.1 in /usr/local/lib/python3.10/dist-packages (from pandas>=0.25->seaborn) (2023.3)\n",
      "Requirement already satisfied: six>=1.5 in /usr/local/lib/python3.10/dist-packages (from python-dateutil>=2.7->matplotlib!=3.6.1,>=3.1->seaborn) (1.16.0)\n"
     ]
    }
   ],
   "source": [
    "pip install seaborn"
   ]
  },
  {
   "cell_type": "code",
   "execution_count": 4,
   "metadata": {
    "colab": {
     "base_uri": "https://localhost:8080/"
    },
    "id": "eBiaJ-2TVwK_",
    "outputId": "f5c4a08c-4a41-44a5-ae93-25ab63f48dbe"
   },
   "outputs": [
    {
     "name": "stdout",
     "output_type": "stream",
     "text": [
      "Requirement already satisfied: matplotlib in /usr/local/lib/python3.10/dist-packages (3.7.1)\n",
      "Requirement already satisfied: contourpy>=1.0.1 in /usr/local/lib/python3.10/dist-packages (from matplotlib) (1.1.0)\n",
      "Requirement already satisfied: cycler>=0.10 in /usr/local/lib/python3.10/dist-packages (from matplotlib) (0.11.0)\n",
      "Requirement already satisfied: fonttools>=4.22.0 in /usr/local/lib/python3.10/dist-packages (from matplotlib) (4.42.0)\n",
      "Requirement already satisfied: kiwisolver>=1.0.1 in /usr/local/lib/python3.10/dist-packages (from matplotlib) (1.4.4)\n",
      "Requirement already satisfied: numpy>=1.20 in /usr/local/lib/python3.10/dist-packages (from matplotlib) (1.23.5)\n",
      "Requirement already satisfied: packaging>=20.0 in /usr/local/lib/python3.10/dist-packages (from matplotlib) (23.1)\n",
      "Requirement already satisfied: pillow>=6.2.0 in /usr/local/lib/python3.10/dist-packages (from matplotlib) (9.4.0)\n",
      "Requirement already satisfied: pyparsing>=2.3.1 in /usr/local/lib/python3.10/dist-packages (from matplotlib) (3.1.1)\n",
      "Requirement already satisfied: python-dateutil>=2.7 in /usr/local/lib/python3.10/dist-packages (from matplotlib) (2.8.2)\n",
      "Requirement already satisfied: six>=1.5 in /usr/local/lib/python3.10/dist-packages (from python-dateutil>=2.7->matplotlib) (1.16.0)\n"
     ]
    }
   ],
   "source": [
    "pip install matplotlib\n"
   ]
  },
  {
   "cell_type": "code",
   "execution_count": 5,
   "metadata": {
    "colab": {
     "base_uri": "https://localhost:8080/"
    },
    "id": "vEsY6ALQStdS",
    "outputId": "77d5f76b-b4e3-470b-c5d2-c5f1e9a3dda8"
   },
   "outputs": [
    {
     "name": "stdout",
     "output_type": "stream",
     "text": [
      "Requirement already satisfied: scikit-learn in /usr/local/lib/python3.10/dist-packages (1.2.2)\n",
      "Requirement already satisfied: numpy>=1.17.3 in /usr/local/lib/python3.10/dist-packages (from scikit-learn) (1.23.5)\n",
      "Requirement already satisfied: scipy>=1.3.2 in /usr/local/lib/python3.10/dist-packages (from scikit-learn) (1.10.1)\n",
      "Requirement already satisfied: joblib>=1.1.1 in /usr/local/lib/python3.10/dist-packages (from scikit-learn) (1.3.2)\n",
      "Requirement already satisfied: threadpoolctl>=2.0.0 in /usr/local/lib/python3.10/dist-packages (from scikit-learn) (3.2.0)\n"
     ]
    }
   ],
   "source": [
    "pip install scikit-learn\n"
   ]
  },
  {
   "cell_type": "markdown",
   "metadata": {
    "id": "l5O6UWXuWbm_"
   },
   "source": [
    "# **Ignore warnings**"
   ]
  },
  {
   "cell_type": "code",
   "execution_count": 6,
   "metadata": {
    "id": "Cs_f7UxgWYMW"
   },
   "outputs": [],
   "source": [
    "import warnings"
   ]
  },
  {
   "cell_type": "code",
   "execution_count": 7,
   "metadata": {
    "id": "tehJa99xWyAH"
   },
   "outputs": [],
   "source": [
    "warnings.simplefilter(action = \"ignore\", category = FutureWarning)"
   ]
  },
  {
   "cell_type": "code",
   "execution_count": 8,
   "metadata": {
    "id": "5ms5DCoKXPUD"
   },
   "outputs": [],
   "source": [
    "%matplotlib inline\n",
    "import pandas as pd\n",
    "import numpy as np\n",
    "import seaborn as sns\n",
    "import matplotlib.pyplot as plt\n"
   ]
  },
  {
   "cell_type": "markdown",
   "metadata": {
    "id": "Tr2ZPGCLXmZp"
   },
   "source": [
    "# Seaborn functionality\n",
    "\n",
    "We got so many color palettes\n",
    "\n",
    "# Categorical color palettes"
   ]
  },
  {
   "cell_type": "code",
   "execution_count": 9,
   "metadata": {
    "colab": {
     "base_uri": "https://localhost:8080/",
     "height": 118
    },
    "id": "j4RxEyrFXlp9",
    "outputId": "1fdfc4dd-8654-481e-d653-c67f6c3c03e5"
   },
   "outputs": [
    {
     "data": {
      "image/png": "[encoded data removed]",
      "text/plain": [
       "<Figure size 1000x100 with 1 Axes>"
      ]
     },
     "metadata": {},
     "output_type": "display_data"
    }
   ],
   "source": [
    "current_palette = sns.color_palette()\n",
    "sns.palplot(current_palette)\n",
    "plt.show()"
   ]
  },
  {
   "cell_type": "markdown",
   "metadata": {
    "id": "BTe45XZFbyDQ"
   },
   "source": [
    "# continous color palette"
   ]
  },
  {
   "cell_type": "code",
   "execution_count": 10,
   "metadata": {
    "colab": {
     "base_uri": "https://localhost:8080/",
     "height": 118
    },
    "id": "rK0Ibv-4c3yN",
    "outputId": "01c5726e-96c6-41bc-a71d-143f80e8d19f"
   },
   "outputs": [
    {
     "data": {
      "image/png": "[encoded data removed]",
      "text/plain": [
       "<Figure size 600x100 with 1 Axes>"
      ]
     },
     "metadata": {},
     "output_type": "display_data"
    }
   ],
   "source": [
    "current_palette2 = sns.color_palette()\n",
    "\n",
    "sns.palplot( sns.color_palette(\"Blues\"))\n",
    "\n",
    "plt.show()"
   ]
  },
  {
   "cell_type": "markdown",
   "metadata": {
    "id": "zsoZxARec4HC"
   },
   "source": [
    "## **Diverging Color Palette**"
   ]
  },
  {
   "cell_type": "code",
   "execution_count": 11,
   "metadata": {
    "colab": {
     "base_uri": "https://localhost:8080/",
     "height": 107
    },
    "id": "V5ZrRBmHXWdf",
    "outputId": "f19c63b6-1a15-4c5b-9e77-d29221b455ba"
   },
   "outputs": [
    {
     "data": {
      "image/png": "[encoded data removed]",
      "text/plain": [
       "<Figure size 2000x100 with 1 Axes>"
      ]
     },
     "metadata": {},
     "output_type": "display_data"
    }
   ],
   "source": [
    "current_palette3 = sns.color_palette()\n",
    "sns.palplot(sns.color_palette(\"BrBG\",20))\n",
    "plt.show()"
   ]
  },
  {
   "cell_type": "markdown",
   "metadata": {
    "id": "yPtMSCnUeR7g"
   },
   "source": [
    "# **Seaborn on Titanic dataset**\n",
    "\n",
    "\n",
    "# sequential color_palette"
   ]
  },
  {
   "cell_type": "code",
   "execution_count": 12,
   "metadata": {
    "colab": {
     "base_uri": "https://localhost:8080/",
     "height": 118
    },
    "id": "cPZGAZnJedXd",
    "outputId": "be5eb144-5c5e-49c4-debe-1ef23289d525"
   },
   "outputs": [
    {
     "data": {
      "image/png": "[encoded data removed]",
      "text/plain": [
       "<Figure size 1000x100 with 1 Axes>"
      ]
     },
     "metadata": {},
     "output_type": "display_data"
    }
   ],
   "source": [
    "current_palette3 = sns.color_palette()\n",
    "sns.palplot(sns.color_palette(\"colorblind\"))\n",
    "plt.show()"
   ]
  },
  {
   "cell_type": "code",
   "execution_count": 13,
   "metadata": {
    "colab": {
     "base_uri": "https://localhost:8080/",
     "height": 250
    },
    "id": "XcrBFL-ae6uL",
    "outputId": "260ba5ad-5eb1-422e-80b4-e0057aa5779b"
   },
   "outputs": [
    {
     "data": {
      "text/html": [
       "\n",
       "\n",
       "  <div id=\"df-a779443a-3985-4d0c-ad31-9b0d4c589b80\">\n",
       "    <div class=\"colab-df-container\">\n",
       "      <div>\n",
       "<style scoped>\n",
       "    .dataframe tbody tr th:only-of-type {\n",
       "        vertical-align: middle;\n",
       "    }\n",
       "\n",
       "    .dataframe tbody tr th {\n",
       "        vertical-align: top;\n",
       "    }\n",
       "\n",
       "    .dataframe thead th {\n",
       "        text-align: right;\n",
       "    }\n",
       "</style>\n",
       "<table border=\"1\" class=\"dataframe\">\n",
       "  <thead>\n",
       "    <tr style=\"text-align: right;\">\n",
       "      <th></th>\n",
       "      <th>Avg. Area Income</th>\n",
       "      <th>Avg. Area House Age</th>\n",
       "      <th>Avg. Area Number of Rooms</th>\n",
       "      <th>Avg. Area Number of Bedrooms</th>\n",
       "      <th>Area Population</th>\n",
       "      <th>Price</th>\n",
       "      <th>Address</th>\n",
       "    </tr>\n",
       "  </thead>\n",
       "  <tbody>\n",
       "    <tr>\n",
       "      <th>0</th>\n",
       "      <td>79545.458574</td>\n",
       "      <td>5.682861</td>\n",
       "      <td>7.009188</td>\n",
       "      <td>4.09</td>\n",
       "      <td>23086.800503</td>\n",
       "      <td>1.059034e+06</td>\n",
       "      <td>208 Michael Ferry Apt. 674\\nLaurabury, NE 3701...</td>\n",
       "    </tr>\n",
       "    <tr>\n",
       "      <th>1</th>\n",
       "      <td>79248.642455</td>\n",
       "      <td>6.002900</td>\n",
       "      <td>6.730821</td>\n",
       "      <td>3.09</td>\n",
       "      <td>40173.072174</td>\n",
       "      <td>1.505891e+06</td>\n",
       "      <td>188 Johnson Views Suite 079\\nLake Kathleen, CA...</td>\n",
       "    </tr>\n",
       "    <tr>\n",
       "      <th>2</th>\n",
       "      <td>61287.067179</td>\n",
       "      <td>5.865890</td>\n",
       "      <td>8.512727</td>\n",
       "      <td>5.13</td>\n",
       "      <td>36882.159400</td>\n",
       "      <td>1.058988e+06</td>\n",
       "      <td>9127 Elizabeth Stravenue\\nDanieltown, WI 06482...</td>\n",
       "    </tr>\n",
       "    <tr>\n",
       "      <th>3</th>\n",
       "      <td>63345.240046</td>\n",
       "      <td>7.188236</td>\n",
       "      <td>5.586729</td>\n",
       "      <td>3.26</td>\n",
       "      <td>34310.242831</td>\n",
       "      <td>1.260617e+06</td>\n",
       "      <td>USS Barnett\\nFPO AP 44820</td>\n",
       "    </tr>\n",
       "    <tr>\n",
       "      <th>4</th>\n",
       "      <td>59982.197226</td>\n",
       "      <td>5.040555</td>\n",
       "      <td>7.839388</td>\n",
       "      <td>4.23</td>\n",
       "      <td>26354.109472</td>\n",
       "      <td>6.309435e+05</td>\n",
       "      <td>USNS Raymond\\nFPO AE 09386</td>\n",
       "    </tr>\n",
       "  </tbody>\n",
       "</table>\n",
       "</div>\n",
       "      <button class=\"colab-df-convert\" onclick=\"convertToInteractive('df-a779443a-3985-4d0c-ad31-9b0d4c589b80')\"\n",
       "              title=\"Convert this dataframe to an interactive table.\"\n",
       "              style=\"display:none;\">\n",
       "\n",
       "  <svg xmlns=\"http://www.w3.org/2000/svg\" height=\"24px\"viewBox=\"0 0 24 24\"\n",
       "       width=\"24px\">\n",
       "    <path d=\"M0 0h24v24H0V0z\" fill=\"none\"/>\n",
       "    <path d=\"M18.56 5.44l.94 2.06.94-2.06 2.06-.94-2.06-.94-.94-2.06-.94 2.06-2.06.94zm-11 1L8.5 8.5l.94-2.06 2.06-.94-2.06-.94L8.5 2.5l-.94 2.06-2.06.94zm10 10l.94 2.06.94-2.06 2.06-.94-2.06-.94-.94-2.06-.94 2.06-2.06.94z\"/><path d=\"M17.41 7.96l-1.37-1.37c-.4-.4-.92-.59-1.43-.59-.52 0-1.04.2-1.43.59L10.3 9.45l-7.72 7.72c-.78.78-.78 2.05 0 2.83L4 21.41c.39.39.9.59 1.41.59.51 0 1.02-.2 1.41-.59l7.78-7.78 2.81-2.81c.8-.78.8-2.07 0-2.86zM5.41 20L4 18.59l7.72-7.72 1.47 1.35L5.41 20z\"/>\n",
       "  </svg>\n",
       "      </button>\n",
       "\n",
       "\n",
       "\n",
       "    <div id=\"df-dc54d22a-da15-42c4-9fb7-d60b983926f7\">\n",
       "      <button class=\"colab-df-quickchart\" onclick=\"quickchart('df-dc54d22a-da15-42c4-9fb7-d60b983926f7')\"\n",
       "              title=\"Suggest charts.\"\n",
       "              style=\"display:none;\">\n",
       "\n",
       "<svg xmlns=\"http://www.w3.org/2000/svg\" height=\"24px\"viewBox=\"0 0 24 24\"\n",
       "     width=\"24px\">\n",
       "    <g>\n",
       "        <path d=\"M19 3H5c-1.1 0-2 .9-2 2v14c0 1.1.9 2 2 2h14c1.1 0 2-.9 2-2V5c0-1.1-.9-2-2-2zM9 17H7v-7h2v7zm4 0h-2V7h2v10zm4 0h-2v-4h2v4z\"/>\n",
       "    </g>\n",
       "</svg>\n",
       "      </button>\n",
       "    </div>\n",
       "\n",
       "<style>\n",
       "  .colab-df-quickchart {\n",
       "    background-color: #E8F0FE;\n",
       "    border: none;\n",
       "    border-radius: 50%;\n",
       "    cursor: pointer;\n",
       "    display: none;\n",
       "    fill: #1967D2;\n",
       "    height: 32px;\n",
       "    padding: 0 0 0 0;\n",
       "    width: 32px;\n",
       "  }\n",
       "\n",
       "  .colab-df-quickchart:hover {\n",
       "    background-color: #E2EBFA;\n",
       "    box-shadow: 0px 1px 2px rgba(60, 64, 67, 0.3), 0px 1px 3px 1px rgba(60, 64, 67, 0.15);\n",
       "    fill: #174EA6;\n",
       "  }\n",
       "\n",
       "  [theme=dark] .colab-df-quickchart {\n",
       "    background-color: #3B4455;\n",
       "    fill: #D2E3FC;\n",
       "  }\n",
       "\n",
       "  [theme=dark] .colab-df-quickchart:hover {\n",
       "    background-color: #434B5C;\n",
       "    box-shadow: 0px 1px 3px 1px rgba(0, 0, 0, 0.15);\n",
       "    filter: drop-shadow(0px 1px 2px rgba(0, 0, 0, 0.3));\n",
       "    fill: #FFFFFF;\n",
       "  }\n",
       "</style>\n",
       "\n",
       "    <script>\n",
       "      async function quickchart(key) {\n",
       "        const containerElement = document.querySelector('#' + key);\n",
       "        const charts = await google.colab.kernel.invokeFunction(\n",
       "            'suggestCharts', [key], {});\n",
       "      }\n",
       "    </script>\n",
       "\n",
       "      <script>\n",
       "\n",
       "function displayQuickchartButton(domScope) {\n",
       "  let quickchartButtonEl =\n",
       "    domScope.querySelector('#df-dc54d22a-da15-42c4-9fb7-d60b983926f7 button.colab-df-quickchart');\n",
       "  quickchartButtonEl.style.display =\n",
       "    google.colab.kernel.accessAllowed ? 'block' : 'none';\n",
       "}\n",
       "\n",
       "        displayQuickchartButton(document);\n",
       "      </script>\n",
       "      <style>\n",
       "    .colab-df-container {\n",
       "      display:flex;\n",
       "      flex-wrap:wrap;\n",
       "      gap: 12px;\n",
       "    }\n",
       "\n",
       "    .colab-df-convert {\n",
       "      background-color: #E8F0FE;\n",
       "      border: none;\n",
       "      border-radius: 50%;\n",
       "      cursor: pointer;\n",
       "      display: none;\n",
       "      fill: #1967D2;\n",
       "      height: 32px;\n",
       "      padding: 0 0 0 0;\n",
       "      width: 32px;\n",
       "    }\n",
       "\n",
       "    .colab-df-convert:hover {\n",
       "      background-color: #E2EBFA;\n",
       "      box-shadow: 0px 1px 2px rgba(60, 64, 67, 0.3), 0px 1px 3px 1px rgba(60, 64, 67, 0.15);\n",
       "      fill: #174EA6;\n",
       "    }\n",
       "\n",
       "    [theme=dark] .colab-df-convert {\n",
       "      background-color: #3B4455;\n",
       "      fill: #D2E3FC;\n",
       "    }\n",
       "\n",
       "    [theme=dark] .colab-df-convert:hover {\n",
       "      background-color: #434B5C;\n",
       "      box-shadow: 0px 1px 3px 1px rgba(0, 0, 0, 0.15);\n",
       "      filter: drop-shadow(0px 1px 2px rgba(0, 0, 0, 0.3));\n",
       "      fill: #FFFFFF;\n",
       "    }\n",
       "  </style>\n",
       "\n",
       "      <script>\n",
       "        const buttonEl =\n",
       "          document.querySelector('#df-a779443a-3985-4d0c-ad31-9b0d4c589b80 button.colab-df-convert');\n",
       "        buttonEl.style.display =\n",
       "          google.colab.kernel.accessAllowed ? 'block' : 'none';\n",
       "\n",
       "        async function convertToInteractive(key) {\n",
       "          const element = document.querySelector('#df-a779443a-3985-4d0c-ad31-9b0d4c589b80');\n",
       "          const dataTable =\n",
       "            await google.colab.kernel.invokeFunction('convertToInteractive',\n",
       "                                                     [key], {});\n",
       "          if (!dataTable) return;\n",
       "\n",
       "          const docLinkHtml = 'Like what you see? Visit the ' +\n",
       "            '<a target=\"_blank\" href=https://colab.research.google.com/notebooks/data_table.ipynb>data table notebook</a>'\n",
       "            + ' to learn more about interactive tables.';\n",
       "          element.innerHTML = '';\n",
       "          dataTable['output_type'] = 'display_data';\n",
       "          await google.colab.output.renderOutput(dataTable, element);\n",
       "          const docLink = document.createElement('div');\n",
       "          docLink.innerHTML = docLinkHtml;\n",
       "          element.appendChild(docLink);\n",
       "        }\n",
       "      </script>\n",
       "    </div>\n",
       "  </div>\n"
      ],
      "text/plain": [
       "   Avg. Area Income  Avg. Area House Age  Avg. Area Number of Rooms  \\\n",
       "0      79545.458574             5.682861                   7.009188   \n",
       "1      79248.642455             6.002900                   6.730821   \n",
       "2      61287.067179             5.865890                   8.512727   \n",
       "3      63345.240046             7.188236                   5.586729   \n",
       "4      59982.197226             5.040555                   7.839388   \n",
       "\n",
       "   Avg. Area Number of Bedrooms  Area Population         Price  \\\n",
       "0                          4.09     23086.800503  1.059034e+06   \n",
       "1                          3.09     40173.072174  1.505891e+06   \n",
       "2                          5.13     36882.159400  1.058988e+06   \n",
       "3                          3.26     34310.242831  1.260617e+06   \n",
       "4                          4.23     26354.109472  6.309435e+05   \n",
       "\n",
       "                                             Address  \n",
       "0  208 Michael Ferry Apt. 674\\nLaurabury, NE 3701...  \n",
       "1  188 Johnson Views Suite 079\\nLake Kathleen, CA...  \n",
       "2  9127 Elizabeth Stravenue\\nDanieltown, WI 06482...  \n",
       "3                          USS Barnett\\nFPO AP 44820  \n",
       "4                         USNS Raymond\\nFPO AE 09386  "
      ]
     },
     "execution_count": 13,
     "metadata": {},
     "output_type": "execute_result"
    }
   ],
   "source": [
    "full_data = pd.read_csv(\"/content/USA_Housing.csv\")\n",
    "full_data.head()"
   ]
  },
  {
   "cell_type": "code",
   "execution_count": 14,
   "metadata": {
    "colab": {
     "base_uri": "https://localhost:8080/",
     "height": 250
    },
    "id": "ozjvJJ558BZY",
    "outputId": "f96f7745-ff7d-4ac6-96aa-8832a50e91c4"
   },
   "outputs": [
    {
     "data": {
      "text/html": [
       "\n",
       "\n",
       "  <div id=\"df-a8b1194d-2e30-49d4-b69f-83a16a1f7112\">\n",
       "    <div class=\"colab-df-container\">\n",
       "      <div>\n",
       "<style scoped>\n",
       "    .dataframe tbody tr th:only-of-type {\n",
       "        vertical-align: middle;\n",
       "    }\n",
       "\n",
       "    .dataframe tbody tr th {\n",
       "        vertical-align: top;\n",
       "    }\n",
       "\n",
       "    .dataframe thead th {\n",
       "        text-align: right;\n",
       "    }\n",
       "</style>\n",
       "<table border=\"1\" class=\"dataframe\">\n",
       "  <thead>\n",
       "    <tr style=\"text-align: right;\">\n",
       "      <th></th>\n",
       "      <th>Avg. Area Income</th>\n",
       "      <th>Avg. Area House Age</th>\n",
       "      <th>Avg. Area Number of Rooms</th>\n",
       "      <th>Avg. Area Number of Bedrooms</th>\n",
       "      <th>Area Population</th>\n",
       "      <th>Price</th>\n",
       "      <th>Address</th>\n",
       "    </tr>\n",
       "  </thead>\n",
       "  <tbody>\n",
       "    <tr>\n",
       "      <th>4995</th>\n",
       "      <td>60567.944140</td>\n",
       "      <td>7.830362</td>\n",
       "      <td>6.137356</td>\n",
       "      <td>3.46</td>\n",
       "      <td>22837.361035</td>\n",
       "      <td>1.060194e+06</td>\n",
       "      <td>USNS Williams\\nFPO AP 30153-7653</td>\n",
       "    </tr>\n",
       "    <tr>\n",
       "      <th>4996</th>\n",
       "      <td>78491.275435</td>\n",
       "      <td>6.999135</td>\n",
       "      <td>6.576763</td>\n",
       "      <td>4.02</td>\n",
       "      <td>25616.115489</td>\n",
       "      <td>1.482618e+06</td>\n",
       "      <td>PSC 9258, Box 8489\\nAPO AA 42991-3352</td>\n",
       "    </tr>\n",
       "    <tr>\n",
       "      <th>4997</th>\n",
       "      <td>63390.686886</td>\n",
       "      <td>7.250591</td>\n",
       "      <td>4.805081</td>\n",
       "      <td>2.13</td>\n",
       "      <td>33266.145490</td>\n",
       "      <td>1.030730e+06</td>\n",
       "      <td>4215 Tracy Garden Suite 076\\nJoshualand, VA 01...</td>\n",
       "    </tr>\n",
       "    <tr>\n",
       "      <th>4998</th>\n",
       "      <td>68001.331235</td>\n",
       "      <td>5.534388</td>\n",
       "      <td>7.130144</td>\n",
       "      <td>5.44</td>\n",
       "      <td>42625.620156</td>\n",
       "      <td>1.198657e+06</td>\n",
       "      <td>USS Wallace\\nFPO AE 73316</td>\n",
       "    </tr>\n",
       "    <tr>\n",
       "      <th>4999</th>\n",
       "      <td>65510.581804</td>\n",
       "      <td>5.992305</td>\n",
       "      <td>6.792336</td>\n",
       "      <td>4.07</td>\n",
       "      <td>46501.283803</td>\n",
       "      <td>1.298950e+06</td>\n",
       "      <td>37778 George Ridges Apt. 509\\nEast Holly, NV 2...</td>\n",
       "    </tr>\n",
       "  </tbody>\n",
       "</table>\n",
       "</div>\n",
       "      <button class=\"colab-df-convert\" onclick=\"convertToInteractive('df-a8b1194d-2e30-49d4-b69f-83a16a1f7112')\"\n",
       "              title=\"Convert this dataframe to an interactive table.\"\n",
       "              style=\"display:none;\">\n",
       "\n",
       "  <svg xmlns=\"http://www.w3.org/2000/svg\" height=\"24px\"viewBox=\"0 0 24 24\"\n",
       "       width=\"24px\">\n",
       "    <path d=\"M0 0h24v24H0V0z\" fill=\"none\"/>\n",
       "    <path d=\"M18.56 5.44l.94 2.06.94-2.06 2.06-.94-2.06-.94-.94-2.06-.94 2.06-2.06.94zm-11 1L8.5 8.5l.94-2.06 2.06-.94-2.06-.94L8.5 2.5l-.94 2.06-2.06.94zm10 10l.94 2.06.94-2.06 2.06-.94-2.06-.94-.94-2.06-.94 2.06-2.06.94z\"/><path d=\"M17.41 7.96l-1.37-1.37c-.4-.4-.92-.59-1.43-.59-.52 0-1.04.2-1.43.59L10.3 9.45l-7.72 7.72c-.78.78-.78 2.05 0 2.83L4 21.41c.39.39.9.59 1.41.59.51 0 1.02-.2 1.41-.59l7.78-7.78 2.81-2.81c.8-.78.8-2.07 0-2.86zM5.41 20L4 18.59l7.72-7.72 1.47 1.35L5.41 20z\"/>\n",
       "  </svg>\n",
       "      </button>\n",
       "\n",
       "\n",
       "\n",
       "    <div id=\"df-4f6590d9-d67b-4649-831e-98896694a342\">\n",
       "      <button class=\"colab-df-quickchart\" onclick=\"quickchart('df-4f6590d9-d67b-4649-831e-98896694a342')\"\n",
       "              title=\"Suggest charts.\"\n",
       "              style=\"display:none;\">\n",
       "\n",
       "<svg xmlns=\"http://www.w3.org/2000/svg\" height=\"24px\"viewBox=\"0 0 24 24\"\n",
       "     width=\"24px\">\n",
       "    <g>\n",
       "        <path d=\"M19 3H5c-1.1 0-2 .9-2 2v14c0 1.1.9 2 2 2h14c1.1 0 2-.9 2-2V5c0-1.1-.9-2-2-2zM9 17H7v-7h2v7zm4 0h-2V7h2v10zm4 0h-2v-4h2v4z\"/>\n",
       "    </g>\n",
       "</svg>\n",
       "      </button>\n",
       "    </div>\n",
       "\n",
       "<style>\n",
       "  .colab-df-quickchart {\n",
       "    background-color: #E8F0FE;\n",
       "    border: none;\n",
       "    border-radius: 50%;\n",
       "    cursor: pointer;\n",
       "    display: none;\n",
       "    fill: #1967D2;\n",
       "    height: 32px;\n",
       "    padding: 0 0 0 0;\n",
       "    width: 32px;\n",
       "  }\n",
       "\n",
       "  .colab-df-quickchart:hover {\n",
       "    background-color: #E2EBFA;\n",
       "    box-shadow: 0px 1px 2px rgba(60, 64, 67, 0.3), 0px 1px 3px 1px rgba(60, 64, 67, 0.15);\n",
       "    fill: #174EA6;\n",
       "  }\n",
       "\n",
       "  [theme=dark] .colab-df-quickchart {\n",
       "    background-color: #3B4455;\n",
       "    fill: #D2E3FC;\n",
       "  }\n",
       "\n",
       "  [theme=dark] .colab-df-quickchart:hover {\n",
       "    background-color: #434B5C;\n",
       "    box-shadow: 0px 1px 3px 1px rgba(0, 0, 0, 0.15);\n",
       "    filter: drop-shadow(0px 1px 2px rgba(0, 0, 0, 0.3));\n",
       "    fill: #FFFFFF;\n",
       "  }\n",
       "</style>\n",
       "\n",
       "    <script>\n",
       "      async function quickchart(key) {\n",
       "        const containerElement = document.querySelector('#' + key);\n",
       "        const charts = await google.colab.kernel.invokeFunction(\n",
       "            'suggestCharts', [key], {});\n",
       "      }\n",
       "    </script>\n",
       "\n",
       "      <script>\n",
       "\n",
       "function displayQuickchartButton(domScope) {\n",
       "  let quickchartButtonEl =\n",
       "    domScope.querySelector('#df-4f6590d9-d67b-4649-831e-98896694a342 button.colab-df-quickchart');\n",
       "  quickchartButtonEl.style.display =\n",
       "    google.colab.kernel.accessAllowed ? 'block' : 'none';\n",
       "}\n",
       "\n",
       "        displayQuickchartButton(document);\n",
       "      </script>\n",
       "      <style>\n",
       "    .colab-df-container {\n",
       "      display:flex;\n",
       "      flex-wrap:wrap;\n",
       "      gap: 12px;\n",
       "    }\n",
       "\n",
       "    .colab-df-convert {\n",
       "      background-color: #E8F0FE;\n",
       "      border: none;\n",
       "      border-radius: 50%;\n",
       "      cursor: pointer;\n",
       "      display: none;\n",
       "      fill: #1967D2;\n",
       "      height: 32px;\n",
       "      padding: 0 0 0 0;\n",
       "      width: 32px;\n",
       "    }\n",
       "\n",
       "    .colab-df-convert:hover {\n",
       "      background-color: #E2EBFA;\n",
       "      box-shadow: 0px 1px 2px rgba(60, 64, 67, 0.3), 0px 1px 3px 1px rgba(60, 64, 67, 0.15);\n",
       "      fill: #174EA6;\n",
       "    }\n",
       "\n",
       "    [theme=dark] .colab-df-convert {\n",
       "      background-color: #3B4455;\n",
       "      fill: #D2E3FC;\n",
       "    }\n",
       "\n",
       "    [theme=dark] .colab-df-convert:hover {\n",
       "      background-color: #434B5C;\n",
       "      box-shadow: 0px 1px 3px 1px rgba(0, 0, 0, 0.15);\n",
       "      filter: drop-shadow(0px 1px 2px rgba(0, 0, 0, 0.3));\n",
       "      fill: #FFFFFF;\n",
       "    }\n",
       "  </style>\n",
       "\n",
       "      <script>\n",
       "        const buttonEl =\n",
       "          document.querySelector('#df-a8b1194d-2e30-49d4-b69f-83a16a1f7112 button.colab-df-convert');\n",
       "        buttonEl.style.display =\n",
       "          google.colab.kernel.accessAllowed ? 'block' : 'none';\n",
       "\n",
       "        async function convertToInteractive(key) {\n",
       "          const element = document.querySelector('#df-a8b1194d-2e30-49d4-b69f-83a16a1f7112');\n",
       "          const dataTable =\n",
       "            await google.colab.kernel.invokeFunction('convertToInteractive',\n",
       "                                                     [key], {});\n",
       "          if (!dataTable) return;\n",
       "\n",
       "          const docLinkHtml = 'Like what you see? Visit the ' +\n",
       "            '<a target=\"_blank\" href=https://colab.research.google.com/notebooks/data_table.ipynb>data table notebook</a>'\n",
       "            + ' to learn more about interactive tables.';\n",
       "          element.innerHTML = '';\n",
       "          dataTable['output_type'] = 'display_data';\n",
       "          await google.colab.output.renderOutput(dataTable, element);\n",
       "          const docLink = document.createElement('div');\n",
       "          docLink.innerHTML = docLinkHtml;\n",
       "          element.appendChild(docLink);\n",
       "        }\n",
       "      </script>\n",
       "    </div>\n",
       "  </div>\n"
      ],
      "text/plain": [
       "      Avg. Area Income  Avg. Area House Age  Avg. Area Number of Rooms  \\\n",
       "4995      60567.944140             7.830362                   6.137356   \n",
       "4996      78491.275435             6.999135                   6.576763   \n",
       "4997      63390.686886             7.250591                   4.805081   \n",
       "4998      68001.331235             5.534388                   7.130144   \n",
       "4999      65510.581804             5.992305                   6.792336   \n",
       "\n",
       "      Avg. Area Number of Bedrooms  Area Population         Price  \\\n",
       "4995                          3.46     22837.361035  1.060194e+06   \n",
       "4996                          4.02     25616.115489  1.482618e+06   \n",
       "4997                          2.13     33266.145490  1.030730e+06   \n",
       "4998                          5.44     42625.620156  1.198657e+06   \n",
       "4999                          4.07     46501.283803  1.298950e+06   \n",
       "\n",
       "                                                Address  \n",
       "4995                   USNS Williams\\nFPO AP 30153-7653  \n",
       "4996              PSC 9258, Box 8489\\nAPO AA 42991-3352  \n",
       "4997  4215 Tracy Garden Suite 076\\nJoshualand, VA 01...  \n",
       "4998                          USS Wallace\\nFPO AE 73316  \n",
       "4999  37778 George Ridges Apt. 509\\nEast Holly, NV 2...  "
      ]
     },
     "execution_count": 14,
     "metadata": {},
     "output_type": "execute_result"
    }
   ],
   "source": [
    "full_data.tail(5)"
   ]
  },
  {
   "cell_type": "code",
   "execution_count": 15,
   "metadata": {
    "colab": {
     "base_uri": "https://localhost:8080/"
    },
    "id": "t-y7bxxe8EDc",
    "outputId": "cfc03947-48d9-4aad-d266-5b2f4e890250"
   },
   "outputs": [
    {
     "data": {
      "text/plain": [
       "(5000, 7)"
      ]
     },
     "execution_count": 15,
     "metadata": {},
     "output_type": "execute_result"
    }
   ],
   "source": [
    "full_data.shape"
   ]
  },
  {
   "cell_type": "code",
   "execution_count": 16,
   "metadata": {
    "colab": {
     "base_uri": "https://localhost:8080/"
    },
    "id": "IWdtycpA8F0V",
    "outputId": "60f92d8d-9488-4b58-dbae-85651064def5"
   },
   "outputs": [
    {
     "data": {
      "text/plain": [
       "Avg. Area Income                float64\n",
       "Avg. Area House Age             float64\n",
       "Avg. Area Number of Rooms       float64\n",
       "Avg. Area Number of Bedrooms    float64\n",
       "Area Population                 float64\n",
       "Price                           float64\n",
       "Address                          object\n",
       "dtype: object"
      ]
     },
     "execution_count": 16,
     "metadata": {},
     "output_type": "execute_result"
    }
   ],
   "source": [
    "full_data.dtypes"
   ]
  },
  {
   "cell_type": "markdown",
   "metadata": {
    "id": "RC3-FvwQ2oqA"
   },
   "source": [
    "# training data pre-processing"
   ]
  },
  {
   "cell_type": "code",
   "execution_count": 17,
   "metadata": {
    "colab": {
     "base_uri": "https://localhost:8080/",
     "height": 250
    },
    "id": "LEujktS_C77w",
    "outputId": "7269332a-0fc5-4392-a4e4-47efc7e0b550"
   },
   "outputs": [
    {
     "data": {
      "text/html": [
       "\n",
       "\n",
       "  <div id=\"df-71203dae-32f7-494a-adbc-ee7b94c2f5af\">\n",
       "    <div class=\"colab-df-container\">\n",
       "      <div>\n",
       "<style scoped>\n",
       "    .dataframe tbody tr th:only-of-type {\n",
       "        vertical-align: middle;\n",
       "    }\n",
       "\n",
       "    .dataframe tbody tr th {\n",
       "        vertical-align: top;\n",
       "    }\n",
       "\n",
       "    .dataframe thead th {\n",
       "        text-align: right;\n",
       "    }\n",
       "</style>\n",
       "<table border=\"1\" class=\"dataframe\">\n",
       "  <thead>\n",
       "    <tr style=\"text-align: right;\">\n",
       "      <th></th>\n",
       "      <th>Avg. Area Income</th>\n",
       "      <th>Avg. Area House Age</th>\n",
       "      <th>Avg. Area Number of Rooms</th>\n",
       "      <th>Avg. Area Number of Bedrooms</th>\n",
       "      <th>Area Population</th>\n",
       "      <th>Price</th>\n",
       "      <th>Address</th>\n",
       "    </tr>\n",
       "  </thead>\n",
       "  <tbody>\n",
       "    <tr>\n",
       "      <th>0</th>\n",
       "      <td>79545.458574</td>\n",
       "      <td>5.682861</td>\n",
       "      <td>7.009188</td>\n",
       "      <td>4.09</td>\n",
       "      <td>23086.800503</td>\n",
       "      <td>1.059034e+06</td>\n",
       "      <td>208 Michael Ferry Apt. 674\\nLaurabury, NE 3701...</td>\n",
       "    </tr>\n",
       "    <tr>\n",
       "      <th>1</th>\n",
       "      <td>79248.642455</td>\n",
       "      <td>6.002900</td>\n",
       "      <td>6.730821</td>\n",
       "      <td>3.09</td>\n",
       "      <td>40173.072174</td>\n",
       "      <td>1.505891e+06</td>\n",
       "      <td>188 Johnson Views Suite 079\\nLake Kathleen, CA...</td>\n",
       "    </tr>\n",
       "    <tr>\n",
       "      <th>2</th>\n",
       "      <td>61287.067179</td>\n",
       "      <td>5.865890</td>\n",
       "      <td>8.512727</td>\n",
       "      <td>5.13</td>\n",
       "      <td>36882.159400</td>\n",
       "      <td>1.058988e+06</td>\n",
       "      <td>9127 Elizabeth Stravenue\\nDanieltown, WI 06482...</td>\n",
       "    </tr>\n",
       "    <tr>\n",
       "      <th>3</th>\n",
       "      <td>63345.240046</td>\n",
       "      <td>7.188236</td>\n",
       "      <td>5.586729</td>\n",
       "      <td>3.26</td>\n",
       "      <td>34310.242831</td>\n",
       "      <td>1.260617e+06</td>\n",
       "      <td>USS Barnett\\nFPO AP 44820</td>\n",
       "    </tr>\n",
       "    <tr>\n",
       "      <th>4</th>\n",
       "      <td>59982.197226</td>\n",
       "      <td>5.040555</td>\n",
       "      <td>7.839388</td>\n",
       "      <td>4.23</td>\n",
       "      <td>26354.109472</td>\n",
       "      <td>6.309435e+05</td>\n",
       "      <td>USNS Raymond\\nFPO AE 09386</td>\n",
       "    </tr>\n",
       "  </tbody>\n",
       "</table>\n",
       "</div>\n",
       "      <button class=\"colab-df-convert\" onclick=\"convertToInteractive('df-71203dae-32f7-494a-adbc-ee7b94c2f5af')\"\n",
       "              title=\"Convert this dataframe to an interactive table.\"\n",
       "              style=\"display:none;\">\n",
       "\n",
       "  <svg xmlns=\"http://www.w3.org/2000/svg\" height=\"24px\"viewBox=\"0 0 24 24\"\n",
       "       width=\"24px\">\n",
       "    <path d=\"M0 0h24v24H0V0z\" fill=\"none\"/>\n",
       "    <path d=\"M18.56 5.44l.94 2.06.94-2.06 2.06-.94-2.06-.94-.94-2.06-.94 2.06-2.06.94zm-11 1L8.5 8.5l.94-2.06 2.06-.94-2.06-.94L8.5 2.5l-.94 2.06-2.06.94zm10 10l.94 2.06.94-2.06 2.06-.94-2.06-.94-.94-2.06-.94 2.06-2.06.94z\"/><path d=\"M17.41 7.96l-1.37-1.37c-.4-.4-.92-.59-1.43-.59-.52 0-1.04.2-1.43.59L10.3 9.45l-7.72 7.72c-.78.78-.78 2.05 0 2.83L4 21.41c.39.39.9.59 1.41.59.51 0 1.02-.2 1.41-.59l7.78-7.78 2.81-2.81c.8-.78.8-2.07 0-2.86zM5.41 20L4 18.59l7.72-7.72 1.47 1.35L5.41 20z\"/>\n",
       "  </svg>\n",
       "      </button>\n",
       "\n",
       "\n",
       "\n",
       "    <div id=\"df-32a38f8c-140f-4171-85ff-33f774922f32\">\n",
       "      <button class=\"colab-df-quickchart\" onclick=\"quickchart('df-32a38f8c-140f-4171-85ff-33f774922f32')\"\n",
       "              title=\"Suggest charts.\"\n",
       "              style=\"display:none;\">\n",
       "\n",
       "<svg xmlns=\"http://www.w3.org/2000/svg\" height=\"24px\"viewBox=\"0 0 24 24\"\n",
       "     width=\"24px\">\n",
       "    <g>\n",
       "        <path d=\"M19 3H5c-1.1 0-2 .9-2 2v14c0 1.1.9 2 2 2h14c1.1 0 2-.9 2-2V5c0-1.1-.9-2-2-2zM9 17H7v-7h2v7zm4 0h-2V7h2v10zm4 0h-2v-4h2v4z\"/>\n",
       "    </g>\n",
       "</svg>\n",
       "      </button>\n",
       "    </div>\n",
       "\n",
       "<style>\n",
       "  .colab-df-quickchart {\n",
       "    background-color: #E8F0FE;\n",
       "    border: none;\n",
       "    border-radius: 50%;\n",
       "    cursor: pointer;\n",
       "    display: none;\n",
       "    fill: #1967D2;\n",
       "    height: 32px;\n",
       "    padding: 0 0 0 0;\n",
       "    width: 32px;\n",
       "  }\n",
       "\n",
       "  .colab-df-quickchart:hover {\n",
       "    background-color: #E2EBFA;\n",
       "    box-shadow: 0px 1px 2px rgba(60, 64, 67, 0.3), 0px 1px 3px 1px rgba(60, 64, 67, 0.15);\n",
       "    fill: #174EA6;\n",
       "  }\n",
       "\n",
       "  [theme=dark] .colab-df-quickchart {\n",
       "    background-color: #3B4455;\n",
       "    fill: #D2E3FC;\n",
       "  }\n",
       "\n",
       "  [theme=dark] .colab-df-quickchart:hover {\n",
       "    background-color: #434B5C;\n",
       "    box-shadow: 0px 1px 3px 1px rgba(0, 0, 0, 0.15);\n",
       "    filter: drop-shadow(0px 1px 2px rgba(0, 0, 0, 0.3));\n",
       "    fill: #FFFFFF;\n",
       "  }\n",
       "</style>\n",
       "\n",
       "    <script>\n",
       "      async function quickchart(key) {\n",
       "        const containerElement = document.querySelector('#' + key);\n",
       "        const charts = await google.colab.kernel.invokeFunction(\n",
       "            'suggestCharts', [key], {});\n",
       "      }\n",
       "    </script>\n",
       "\n",
       "      <script>\n",
       "\n",
       "function displayQuickchartButton(domScope) {\n",
       "  let quickchartButtonEl =\n",
       "    domScope.querySelector('#df-32a38f8c-140f-4171-85ff-33f774922f32 button.colab-df-quickchart');\n",
       "  quickchartButtonEl.style.display =\n",
       "    google.colab.kernel.accessAllowed ? 'block' : 'none';\n",
       "}\n",
       "\n",
       "        displayQuickchartButton(document);\n",
       "      </script>\n",
       "      <style>\n",
       "    .colab-df-container {\n",
       "      display:flex;\n",
       "      flex-wrap:wrap;\n",
       "      gap: 12px;\n",
       "    }\n",
       "\n",
       "    .colab-df-convert {\n",
       "      background-color: #E8F0FE;\n",
       "      border: none;\n",
       "      border-radius: 50%;\n",
       "      cursor: pointer;\n",
       "      display: none;\n",
       "      fill: #1967D2;\n",
       "      height: 32px;\n",
       "      padding: 0 0 0 0;\n",
       "      width: 32px;\n",
       "    }\n",
       "\n",
       "    .colab-df-convert:hover {\n",
       "      background-color: #E2EBFA;\n",
       "      box-shadow: 0px 1px 2px rgba(60, 64, 67, 0.3), 0px 1px 3px 1px rgba(60, 64, 67, 0.15);\n",
       "      fill: #174EA6;\n",
       "    }\n",
       "\n",
       "    [theme=dark] .colab-df-convert {\n",
       "      background-color: #3B4455;\n",
       "      fill: #D2E3FC;\n",
       "    }\n",
       "\n",
       "    [theme=dark] .colab-df-convert:hover {\n",
       "      background-color: #434B5C;\n",
       "      box-shadow: 0px 1px 3px 1px rgba(0, 0, 0, 0.15);\n",
       "      filter: drop-shadow(0px 1px 2px rgba(0, 0, 0, 0.3));\n",
       "      fill: #FFFFFF;\n",
       "    }\n",
       "  </style>\n",
       "\n",
       "      <script>\n",
       "        const buttonEl =\n",
       "          document.querySelector('#df-71203dae-32f7-494a-adbc-ee7b94c2f5af button.colab-df-convert');\n",
       "        buttonEl.style.display =\n",
       "          google.colab.kernel.accessAllowed ? 'block' : 'none';\n",
       "\n",
       "        async function convertToInteractive(key) {\n",
       "          const element = document.querySelector('#df-71203dae-32f7-494a-adbc-ee7b94c2f5af');\n",
       "          const dataTable =\n",
       "            await google.colab.kernel.invokeFunction('convertToInteractive',\n",
       "                                                     [key], {});\n",
       "          if (!dataTable) return;\n",
       "\n",
       "          const docLinkHtml = 'Like what you see? Visit the ' +\n",
       "            '<a target=\"_blank\" href=https://colab.research.google.com/notebooks/data_table.ipynb>data table notebook</a>'\n",
       "            + ' to learn more about interactive tables.';\n",
       "          element.innerHTML = '';\n",
       "          dataTable['output_type'] = 'display_data';\n",
       "          await google.colab.output.renderOutput(dataTable, element);\n",
       "          const docLink = document.createElement('div');\n",
       "          docLink.innerHTML = docLinkHtml;\n",
       "          element.appendChild(docLink);\n",
       "        }\n",
       "      </script>\n",
       "    </div>\n",
       "  </div>\n"
      ],
      "text/plain": [
       "   Avg. Area Income  Avg. Area House Age  Avg. Area Number of Rooms  \\\n",
       "0      79545.458574             5.682861                   7.009188   \n",
       "1      79248.642455             6.002900                   6.730821   \n",
       "2      61287.067179             5.865890                   8.512727   \n",
       "3      63345.240046             7.188236                   5.586729   \n",
       "4      59982.197226             5.040555                   7.839388   \n",
       "\n",
       "   Avg. Area Number of Bedrooms  Area Population         Price  \\\n",
       "0                          4.09     23086.800503  1.059034e+06   \n",
       "1                          3.09     40173.072174  1.505891e+06   \n",
       "2                          5.13     36882.159400  1.058988e+06   \n",
       "3                          3.26     34310.242831  1.260617e+06   \n",
       "4                          4.23     26354.109472  6.309435e+05   \n",
       "\n",
       "                                             Address  \n",
       "0  208 Michael Ferry Apt. 674\\nLaurabury, NE 3701...  \n",
       "1  188 Johnson Views Suite 079\\nLake Kathleen, CA...  \n",
       "2  9127 Elizabeth Stravenue\\nDanieltown, WI 06482...  \n",
       "3                          USS Barnett\\nFPO AP 44820  \n",
       "4                         USNS Raymond\\nFPO AE 09386  "
      ]
     },
     "execution_count": 17,
     "metadata": {},
     "output_type": "execute_result"
    }
   ],
   "source": [
    "df = pd.read_csv(\"/content/USA_Housing.csv\")\n",
    "df.head(5)"
   ]
  },
  {
   "cell_type": "code",
   "execution_count": 18,
   "metadata": {
    "colab": {
     "base_uri": "https://localhost:8080/"
    },
    "id": "VpAkOahrUPaN",
    "outputId": "eb6ab154-044e-4a16-b878-9c70beecc8bc"
   },
   "outputs": [
    {
     "name": "stdout",
     "output_type": "stream",
     "text": [
      "train data : (5000, 7)\n"
     ]
    }
   ],
   "source": [
    "print(\"train data :\", df.shape)"
   ]
  },
  {
   "cell_type": "code",
   "execution_count": 19,
   "metadata": {
    "colab": {
     "base_uri": "https://localhost:8080/",
     "height": 301
    },
    "id": "uesSixqMUTWB",
    "outputId": "52b8bf24-229c-4f3d-e6e6-4af57e93f511"
   },
   "outputs": [
    {
     "data": {
      "text/html": [
       "\n",
       "\n",
       "  <div id=\"df-718ea07e-c6c0-4003-a6f5-8117c4f3571d\">\n",
       "    <div class=\"colab-df-container\">\n",
       "      <div>\n",
       "<style scoped>\n",
       "    .dataframe tbody tr th:only-of-type {\n",
       "        vertical-align: middle;\n",
       "    }\n",
       "\n",
       "    .dataframe tbody tr th {\n",
       "        vertical-align: top;\n",
       "    }\n",
       "\n",
       "    .dataframe thead th {\n",
       "        text-align: right;\n",
       "    }\n",
       "</style>\n",
       "<table border=\"1\" class=\"dataframe\">\n",
       "  <thead>\n",
       "    <tr style=\"text-align: right;\">\n",
       "      <th></th>\n",
       "      <th>Avg. Area Income</th>\n",
       "      <th>Avg. Area House Age</th>\n",
       "      <th>Avg. Area Number of Rooms</th>\n",
       "      <th>Avg. Area Number of Bedrooms</th>\n",
       "      <th>Area Population</th>\n",
       "      <th>Price</th>\n",
       "    </tr>\n",
       "  </thead>\n",
       "  <tbody>\n",
       "    <tr>\n",
       "      <th>count</th>\n",
       "      <td>5000.000000</td>\n",
       "      <td>5000.000000</td>\n",
       "      <td>5000.000000</td>\n",
       "      <td>5000.000000</td>\n",
       "      <td>5000.000000</td>\n",
       "      <td>5.000000e+03</td>\n",
       "    </tr>\n",
       "    <tr>\n",
       "      <th>mean</th>\n",
       "      <td>68583.108984</td>\n",
       "      <td>5.977222</td>\n",
       "      <td>6.987792</td>\n",
       "      <td>3.981330</td>\n",
       "      <td>36163.516039</td>\n",
       "      <td>1.232073e+06</td>\n",
       "    </tr>\n",
       "    <tr>\n",
       "      <th>std</th>\n",
       "      <td>10657.991214</td>\n",
       "      <td>0.991456</td>\n",
       "      <td>1.005833</td>\n",
       "      <td>1.234137</td>\n",
       "      <td>9925.650114</td>\n",
       "      <td>3.531176e+05</td>\n",
       "    </tr>\n",
       "    <tr>\n",
       "      <th>min</th>\n",
       "      <td>17796.631190</td>\n",
       "      <td>2.644304</td>\n",
       "      <td>3.236194</td>\n",
       "      <td>2.000000</td>\n",
       "      <td>172.610686</td>\n",
       "      <td>1.593866e+04</td>\n",
       "    </tr>\n",
       "    <tr>\n",
       "      <th>25%</th>\n",
       "      <td>61480.562388</td>\n",
       "      <td>5.322283</td>\n",
       "      <td>6.299250</td>\n",
       "      <td>3.140000</td>\n",
       "      <td>29403.928702</td>\n",
       "      <td>9.975771e+05</td>\n",
       "    </tr>\n",
       "    <tr>\n",
       "      <th>50%</th>\n",
       "      <td>68804.286404</td>\n",
       "      <td>5.970429</td>\n",
       "      <td>7.002902</td>\n",
       "      <td>4.050000</td>\n",
       "      <td>36199.406689</td>\n",
       "      <td>1.232669e+06</td>\n",
       "    </tr>\n",
       "    <tr>\n",
       "      <th>75%</th>\n",
       "      <td>75783.338666</td>\n",
       "      <td>6.650808</td>\n",
       "      <td>7.665871</td>\n",
       "      <td>4.490000</td>\n",
       "      <td>42861.290769</td>\n",
       "      <td>1.471210e+06</td>\n",
       "    </tr>\n",
       "    <tr>\n",
       "      <th>max</th>\n",
       "      <td>107701.748378</td>\n",
       "      <td>9.519088</td>\n",
       "      <td>10.759588</td>\n",
       "      <td>6.500000</td>\n",
       "      <td>69621.713378</td>\n",
       "      <td>2.469066e+06</td>\n",
       "    </tr>\n",
       "  </tbody>\n",
       "</table>\n",
       "</div>\n",
       "      <button class=\"colab-df-convert\" onclick=\"convertToInteractive('df-718ea07e-c6c0-4003-a6f5-8117c4f3571d')\"\n",
       "              title=\"Convert this dataframe to an interactive table.\"\n",
       "              style=\"display:none;\">\n",
       "\n",
       "  <svg xmlns=\"http://www.w3.org/2000/svg\" height=\"24px\"viewBox=\"0 0 24 24\"\n",
       "       width=\"24px\">\n",
       "    <path d=\"M0 0h24v24H0V0z\" fill=\"none\"/>\n",
       "    <path d=\"M18.56 5.44l.94 2.06.94-2.06 2.06-.94-2.06-.94-.94-2.06-.94 2.06-2.06.94zm-11 1L8.5 8.5l.94-2.06 2.06-.94-2.06-.94L8.5 2.5l-.94 2.06-2.06.94zm10 10l.94 2.06.94-2.06 2.06-.94-2.06-.94-.94-2.06-.94 2.06-2.06.94z\"/><path d=\"M17.41 7.96l-1.37-1.37c-.4-.4-.92-.59-1.43-.59-.52 0-1.04.2-1.43.59L10.3 9.45l-7.72 7.72c-.78.78-.78 2.05 0 2.83L4 21.41c.39.39.9.59 1.41.59.51 0 1.02-.2 1.41-.59l7.78-7.78 2.81-2.81c.8-.78.8-2.07 0-2.86zM5.41 20L4 18.59l7.72-7.72 1.47 1.35L5.41 20z\"/>\n",
       "  </svg>\n",
       "      </button>\n",
       "\n",
       "\n",
       "\n",
       "    <div id=\"df-c41721a2-3a70-48a6-9724-b2c45e8290ee\">\n",
       "      <button class=\"colab-df-quickchart\" onclick=\"quickchart('df-c41721a2-3a70-48a6-9724-b2c45e8290ee')\"\n",
       "              title=\"Suggest charts.\"\n",
       "              style=\"display:none;\">\n",
       "\n",
       "<svg xmlns=\"http://www.w3.org/2000/svg\" height=\"24px\"viewBox=\"0 0 24 24\"\n",
       "     width=\"24px\">\n",
       "    <g>\n",
       "        <path d=\"M19 3H5c-1.1 0-2 .9-2 2v14c0 1.1.9 2 2 2h14c1.1 0 2-.9 2-2V5c0-1.1-.9-2-2-2zM9 17H7v-7h2v7zm4 0h-2V7h2v10zm4 0h-2v-4h2v4z\"/>\n",
       "    </g>\n",
       "</svg>\n",
       "      </button>\n",
       "    </div>\n",
       "\n",
       "<style>\n",
       "  .colab-df-quickchart {\n",
       "    background-color: #E8F0FE;\n",
       "    border: none;\n",
       "    border-radius: 50%;\n",
       "    cursor: pointer;\n",
       "    display: none;\n",
       "    fill: #1967D2;\n",
       "    height: 32px;\n",
       "    padding: 0 0 0 0;\n",
       "    width: 32px;\n",
       "  }\n",
       "\n",
       "  .colab-df-quickchart:hover {\n",
       "    background-color: #E2EBFA;\n",
       "    box-shadow: 0px 1px 2px rgba(60, 64, 67, 0.3), 0px 1px 3px 1px rgba(60, 64, 67, 0.15);\n",
       "    fill: #174EA6;\n",
       "  }\n",
       "\n",
       "  [theme=dark] .colab-df-quickchart {\n",
       "    background-color: #3B4455;\n",
       "    fill: #D2E3FC;\n",
       "  }\n",
       "\n",
       "  [theme=dark] .colab-df-quickchart:hover {\n",
       "    background-color: #434B5C;\n",
       "    box-shadow: 0px 1px 3px 1px rgba(0, 0, 0, 0.15);\n",
       "    filter: drop-shadow(0px 1px 2px rgba(0, 0, 0, 0.3));\n",
       "    fill: #FFFFFF;\n",
       "  }\n",
       "</style>\n",
       "\n",
       "    <script>\n",
       "      async function quickchart(key) {\n",
       "        const containerElement = document.querySelector('#' + key);\n",
       "        const charts = await google.colab.kernel.invokeFunction(\n",
       "            'suggestCharts', [key], {});\n",
       "      }\n",
       "    </script>\n",
       "\n",
       "      <script>\n",
       "\n",
       "function displayQuickchartButton(domScope) {\n",
       "  let quickchartButtonEl =\n",
       "    domScope.querySelector('#df-c41721a2-3a70-48a6-9724-b2c45e8290ee button.colab-df-quickchart');\n",
       "  quickchartButtonEl.style.display =\n",
       "    google.colab.kernel.accessAllowed ? 'block' : 'none';\n",
       "}\n",
       "\n",
       "        displayQuickchartButton(document);\n",
       "      </script>\n",
       "      <style>\n",
       "    .colab-df-container {\n",
       "      display:flex;\n",
       "      flex-wrap:wrap;\n",
       "      gap: 12px;\n",
       "    }\n",
       "\n",
       "    .colab-df-convert {\n",
       "      background-color: #E8F0FE;\n",
       "      border: none;\n",
       "      border-radius: 50%;\n",
       "      cursor: pointer;\n",
       "      display: none;\n",
       "      fill: #1967D2;\n",
       "      height: 32px;\n",
       "      padding: 0 0 0 0;\n",
       "      width: 32px;\n",
       "    }\n",
       "\n",
       "    .colab-df-convert:hover {\n",
       "      background-color: #E2EBFA;\n",
       "      box-shadow: 0px 1px 2px rgba(60, 64, 67, 0.3), 0px 1px 3px 1px rgba(60, 64, 67, 0.15);\n",
       "      fill: #174EA6;\n",
       "    }\n",
       "\n",
       "    [theme=dark] .colab-df-convert {\n",
       "      background-color: #3B4455;\n",
       "      fill: #D2E3FC;\n",
       "    }\n",
       "\n",
       "    [theme=dark] .colab-df-convert:hover {\n",
       "      background-color: #434B5C;\n",
       "      box-shadow: 0px 1px 3px 1px rgba(0, 0, 0, 0.15);\n",
       "      filter: drop-shadow(0px 1px 2px rgba(0, 0, 0, 0.3));\n",
       "      fill: #FFFFFF;\n",
       "    }\n",
       "  </style>\n",
       "\n",
       "      <script>\n",
       "        const buttonEl =\n",
       "          document.querySelector('#df-718ea07e-c6c0-4003-a6f5-8117c4f3571d button.colab-df-convert');\n",
       "        buttonEl.style.display =\n",
       "          google.colab.kernel.accessAllowed ? 'block' : 'none';\n",
       "\n",
       "        async function convertToInteractive(key) {\n",
       "          const element = document.querySelector('#df-718ea07e-c6c0-4003-a6f5-8117c4f3571d');\n",
       "          const dataTable =\n",
       "            await google.colab.kernel.invokeFunction('convertToInteractive',\n",
       "                                                     [key], {});\n",
       "          if (!dataTable) return;\n",
       "\n",
       "          const docLinkHtml = 'Like what you see? Visit the ' +\n",
       "            '<a target=\"_blank\" href=https://colab.research.google.com/notebooks/data_table.ipynb>data table notebook</a>'\n",
       "            + ' to learn more about interactive tables.';\n",
       "          element.innerHTML = '';\n",
       "          dataTable['output_type'] = 'display_data';\n",
       "          await google.colab.output.renderOutput(dataTable, element);\n",
       "          const docLink = document.createElement('div');\n",
       "          docLink.innerHTML = docLinkHtml;\n",
       "          element.appendChild(docLink);\n",
       "        }\n",
       "      </script>\n",
       "    </div>\n",
       "  </div>\n"
      ],
      "text/plain": [
       "       Avg. Area Income  Avg. Area House Age  Avg. Area Number of Rooms  \\\n",
       "count       5000.000000          5000.000000                5000.000000   \n",
       "mean       68583.108984             5.977222                   6.987792   \n",
       "std        10657.991214             0.991456                   1.005833   \n",
       "min        17796.631190             2.644304                   3.236194   \n",
       "25%        61480.562388             5.322283                   6.299250   \n",
       "50%        68804.286404             5.970429                   7.002902   \n",
       "75%        75783.338666             6.650808                   7.665871   \n",
       "max       107701.748378             9.519088                  10.759588   \n",
       "\n",
       "       Avg. Area Number of Bedrooms  Area Population         Price  \n",
       "count                   5000.000000      5000.000000  5.000000e+03  \n",
       "mean                       3.981330     36163.516039  1.232073e+06  \n",
       "std                        1.234137      9925.650114  3.531176e+05  \n",
       "min                        2.000000       172.610686  1.593866e+04  \n",
       "25%                        3.140000     29403.928702  9.975771e+05  \n",
       "50%                        4.050000     36199.406689  1.232669e+06  \n",
       "75%                        4.490000     42861.290769  1.471210e+06  \n",
       "max                        6.500000     69621.713378  2.469066e+06  "
      ]
     },
     "execution_count": 19,
     "metadata": {},
     "output_type": "execute_result"
    }
   ],
   "source": [
    "df.describe()"
   ]
  },
  {
   "cell_type": "code",
   "execution_count": 20,
   "metadata": {
    "colab": {
     "base_uri": "https://localhost:8080/"
    },
    "id": "o1va8Krj2b0n",
    "outputId": "c7ee1a58-5e84-417c-cb7b-535411501cbf"
   },
   "outputs": [
    {
     "name": "stdout",
     "output_type": "stream",
     "text": [
      "<class 'pandas.core.frame.DataFrame'>\n",
      "RangeIndex: 5000 entries, 0 to 4999\n",
      "Data columns (total 7 columns):\n",
      " #   Column                        Non-Null Count  Dtype  \n",
      "---  ------                        --------------  -----  \n",
      " 0   Avg. Area Income              5000 non-null   float64\n",
      " 1   Avg. Area House Age           5000 non-null   float64\n",
      " 2   Avg. Area Number of Rooms     5000 non-null   float64\n",
      " 3   Avg. Area Number of Bedrooms  5000 non-null   float64\n",
      " 4   Area Population               5000 non-null   float64\n",
      " 5   Price                         5000 non-null   float64\n",
      " 6   Address                       5000 non-null   object \n",
      "dtypes: float64(6), object(1)\n",
      "memory usage: 273.6+ KB\n"
     ]
    }
   ],
   "source": [
    "#data info\n",
    "df.info()"
   ]
  },
  {
   "cell_type": "markdown",
   "metadata": {
    "id": "4RtJ5CrZ2-Xc"
   },
   "source": [
    "# Missing data"
   ]
  },
  {
   "cell_type": "code",
   "execution_count": 21,
   "metadata": {
    "colab": {
     "base_uri": "https://localhost:8080/",
     "height": 657
    },
    "id": "ScZP5mE8212X",
    "outputId": "be212c31-b1a7-43a9-955f-3d145495aaa3"
   },
   "outputs": [
    {
     "data": {
      "image/png": "[encoded data removed]",
      "text/plain": [
       "<Figure size 640x480 with 1 Axes>"
      ]
     },
     "metadata": {},
     "output_type": "display_data"
    }
   ],
   "source": [
    "sns.heatmap(df.isnull(),yticklabels = False , cbar = False, cmap = 'tab20c_r')\n",
    "plt.title('missing data : training set')\n",
    "plt.show()"
   ]
  },
  {
   "cell_type": "markdown",
   "metadata": {
    "id": "3dCVr11F_LGS"
   },
   "source": [
    "#Getting Model Ready"
   ]
  },
  {
   "cell_type": "code",
   "execution_count": 22,
   "metadata": {
    "colab": {
     "base_uri": "https://localhost:8080/"
    },
    "id": "-61Mlf_5_Kkr",
    "outputId": "d448f452-ca87-4b5e-b817-951b4af408e3"
   },
   "outputs": [
    {
     "data": {
      "text/plain": [
       "(5000, 7)"
      ]
     },
     "execution_count": 22,
     "metadata": {},
     "output_type": "execute_result"
    }
   ],
   "source": [
    "#shape the model\n",
    "df.shape"
   ]
  },
  {
   "cell_type": "code",
   "execution_count": 23,
   "metadata": {
    "colab": {
     "base_uri": "https://localhost:8080/"
    },
    "id": "0536ezeM_SIV",
    "outputId": "29d78cc3-d04e-4a46-c2f9-d57894889294"
   },
   "outputs": [
    {
     "data": {
      "text/plain": [
       "Index([], dtype='object')"
      ]
     },
     "execution_count": 23,
     "metadata": {},
     "output_type": "execute_result"
    }
   ],
   "source": [
    "#identify the categorical features\n",
    "df.select_dtypes([\"category\"]).columns"
   ]
  },
  {
   "cell_type": "code",
   "execution_count": 24,
   "metadata": {
    "colab": {
     "base_uri": "https://localhost:8080/",
     "height": 250
    },
    "id": "9s9538eRACia",
    "outputId": "9be27b1c-6863-494a-f2c1-e0cf658dc182"
   },
   "outputs": [
    {
     "data": {
      "text/html": [
       "\n",
       "\n",
       "  <div id=\"df-b94149d7-c2de-4d98-a47e-7fac7ae517e1\">\n",
       "    <div class=\"colab-df-container\">\n",
       "      <div>\n",
       "<style scoped>\n",
       "    .dataframe tbody tr th:only-of-type {\n",
       "        vertical-align: middle;\n",
       "    }\n",
       "\n",
       "    .dataframe tbody tr th {\n",
       "        vertical-align: top;\n",
       "    }\n",
       "\n",
       "    .dataframe thead th {\n",
       "        text-align: right;\n",
       "    }\n",
       "</style>\n",
       "<table border=\"1\" class=\"dataframe\">\n",
       "  <thead>\n",
       "    <tr style=\"text-align: right;\">\n",
       "      <th></th>\n",
       "      <th>Avg. Area Income</th>\n",
       "      <th>Avg. Area House Age</th>\n",
       "      <th>Avg. Area Number of Rooms</th>\n",
       "      <th>Avg. Area Number of Bedrooms</th>\n",
       "      <th>Area Population</th>\n",
       "      <th>Price</th>\n",
       "      <th>Address</th>\n",
       "    </tr>\n",
       "  </thead>\n",
       "  <tbody>\n",
       "    <tr>\n",
       "      <th>0</th>\n",
       "      <td>79545.458574</td>\n",
       "      <td>5.682861</td>\n",
       "      <td>7.009188</td>\n",
       "      <td>4.09</td>\n",
       "      <td>23086.800503</td>\n",
       "      <td>1.059034e+06</td>\n",
       "      <td>208 Michael Ferry Apt. 674\\nLaurabury, NE 3701...</td>\n",
       "    </tr>\n",
       "    <tr>\n",
       "      <th>1</th>\n",
       "      <td>79248.642455</td>\n",
       "      <td>6.002900</td>\n",
       "      <td>6.730821</td>\n",
       "      <td>3.09</td>\n",
       "      <td>40173.072174</td>\n",
       "      <td>1.505891e+06</td>\n",
       "      <td>188 Johnson Views Suite 079\\nLake Kathleen, CA...</td>\n",
       "    </tr>\n",
       "    <tr>\n",
       "      <th>2</th>\n",
       "      <td>61287.067179</td>\n",
       "      <td>5.865890</td>\n",
       "      <td>8.512727</td>\n",
       "      <td>5.13</td>\n",
       "      <td>36882.159400</td>\n",
       "      <td>1.058988e+06</td>\n",
       "      <td>9127 Elizabeth Stravenue\\nDanieltown, WI 06482...</td>\n",
       "    </tr>\n",
       "    <tr>\n",
       "      <th>3</th>\n",
       "      <td>63345.240046</td>\n",
       "      <td>7.188236</td>\n",
       "      <td>5.586729</td>\n",
       "      <td>3.26</td>\n",
       "      <td>34310.242831</td>\n",
       "      <td>1.260617e+06</td>\n",
       "      <td>USS Barnett\\nFPO AP 44820</td>\n",
       "    </tr>\n",
       "    <tr>\n",
       "      <th>4</th>\n",
       "      <td>59982.197226</td>\n",
       "      <td>5.040555</td>\n",
       "      <td>7.839388</td>\n",
       "      <td>4.23</td>\n",
       "      <td>26354.109472</td>\n",
       "      <td>6.309435e+05</td>\n",
       "      <td>USNS Raymond\\nFPO AE 09386</td>\n",
       "    </tr>\n",
       "  </tbody>\n",
       "</table>\n",
       "</div>\n",
       "      <button class=\"colab-df-convert\" onclick=\"convertToInteractive('df-b94149d7-c2de-4d98-a47e-7fac7ae517e1')\"\n",
       "              title=\"Convert this dataframe to an interactive table.\"\n",
       "              style=\"display:none;\">\n",
       "\n",
       "  <svg xmlns=\"http://www.w3.org/2000/svg\" height=\"24px\"viewBox=\"0 0 24 24\"\n",
       "       width=\"24px\">\n",
       "    <path d=\"M0 0h24v24H0V0z\" fill=\"none\"/>\n",
       "    <path d=\"M18.56 5.44l.94 2.06.94-2.06 2.06-.94-2.06-.94-.94-2.06-.94 2.06-2.06.94zm-11 1L8.5 8.5l.94-2.06 2.06-.94-2.06-.94L8.5 2.5l-.94 2.06-2.06.94zm10 10l.94 2.06.94-2.06 2.06-.94-2.06-.94-.94-2.06-.94 2.06-2.06.94z\"/><path d=\"M17.41 7.96l-1.37-1.37c-.4-.4-.92-.59-1.43-.59-.52 0-1.04.2-1.43.59L10.3 9.45l-7.72 7.72c-.78.78-.78 2.05 0 2.83L4 21.41c.39.39.9.59 1.41.59.51 0 1.02-.2 1.41-.59l7.78-7.78 2.81-2.81c.8-.78.8-2.07 0-2.86zM5.41 20L4 18.59l7.72-7.72 1.47 1.35L5.41 20z\"/>\n",
       "  </svg>\n",
       "      </button>\n",
       "\n",
       "\n",
       "\n",
       "    <div id=\"df-2071a4ad-5b5c-4052-8fe4-74f4692ed409\">\n",
       "      <button class=\"colab-df-quickchart\" onclick=\"quickchart('df-2071a4ad-5b5c-4052-8fe4-74f4692ed409')\"\n",
       "              title=\"Suggest charts.\"\n",
       "              style=\"display:none;\">\n",
       "\n",
       "<svg xmlns=\"http://www.w3.org/2000/svg\" height=\"24px\"viewBox=\"0 0 24 24\"\n",
       "     width=\"24px\">\n",
       "    <g>\n",
       "        <path d=\"M19 3H5c-1.1 0-2 .9-2 2v14c0 1.1.9 2 2 2h14c1.1 0 2-.9 2-2V5c0-1.1-.9-2-2-2zM9 17H7v-7h2v7zm4 0h-2V7h2v10zm4 0h-2v-4h2v4z\"/>\n",
       "    </g>\n",
       "</svg>\n",
       "      </button>\n",
       "    </div>\n",
       "\n",
       "<style>\n",
       "  .colab-df-quickchart {\n",
       "    background-color: #E8F0FE;\n",
       "    border: none;\n",
       "    border-radius: 50%;\n",
       "    cursor: pointer;\n",
       "    display: none;\n",
       "    fill: #1967D2;\n",
       "    height: 32px;\n",
       "    padding: 0 0 0 0;\n",
       "    width: 32px;\n",
       "  }\n",
       "\n",
       "  .colab-df-quickchart:hover {\n",
       "    background-color: #E2EBFA;\n",
       "    box-shadow: 0px 1px 2px rgba(60, 64, 67, 0.3), 0px 1px 3px 1px rgba(60, 64, 67, 0.15);\n",
       "    fill: #174EA6;\n",
       "  }\n",
       "\n",
       "  [theme=dark] .colab-df-quickchart {\n",
       "    background-color: #3B4455;\n",
       "    fill: #D2E3FC;\n",
       "  }\n",
       "\n",
       "  [theme=dark] .colab-df-quickchart:hover {\n",
       "    background-color: #434B5C;\n",
       "    box-shadow: 0px 1px 3px 1px rgba(0, 0, 0, 0.15);\n",
       "    filter: drop-shadow(0px 1px 2px rgba(0, 0, 0, 0.3));\n",
       "    fill: #FFFFFF;\n",
       "  }\n",
       "</style>\n",
       "\n",
       "    <script>\n",
       "      async function quickchart(key) {\n",
       "        const containerElement = document.querySelector('#' + key);\n",
       "        const charts = await google.colab.kernel.invokeFunction(\n",
       "            'suggestCharts', [key], {});\n",
       "      }\n",
       "    </script>\n",
       "\n",
       "      <script>\n",
       "\n",
       "function displayQuickchartButton(domScope) {\n",
       "  let quickchartButtonEl =\n",
       "    domScope.querySelector('#df-2071a4ad-5b5c-4052-8fe4-74f4692ed409 button.colab-df-quickchart');\n",
       "  quickchartButtonEl.style.display =\n",
       "    google.colab.kernel.accessAllowed ? 'block' : 'none';\n",
       "}\n",
       "\n",
       "        displayQuickchartButton(document);\n",
       "      </script>\n",
       "      <style>\n",
       "    .colab-df-container {\n",
       "      display:flex;\n",
       "      flex-wrap:wrap;\n",
       "      gap: 12px;\n",
       "    }\n",
       "\n",
       "    .colab-df-convert {\n",
       "      background-color: #E8F0FE;\n",
       "      border: none;\n",
       "      border-radius: 50%;\n",
       "      cursor: pointer;\n",
       "      display: none;\n",
       "      fill: #1967D2;\n",
       "      height: 32px;\n",
       "      padding: 0 0 0 0;\n",
       "      width: 32px;\n",
       "    }\n",
       "\n",
       "    .colab-df-convert:hover {\n",
       "      background-color: #E2EBFA;\n",
       "      box-shadow: 0px 1px 2px rgba(60, 64, 67, 0.3), 0px 1px 3px 1px rgba(60, 64, 67, 0.15);\n",
       "      fill: #174EA6;\n",
       "    }\n",
       "\n",
       "    [theme=dark] .colab-df-convert {\n",
       "      background-color: #3B4455;\n",
       "      fill: #D2E3FC;\n",
       "    }\n",
       "\n",
       "    [theme=dark] .colab-df-convert:hover {\n",
       "      background-color: #434B5C;\n",
       "      box-shadow: 0px 1px 3px 1px rgba(0, 0, 0, 0.15);\n",
       "      filter: drop-shadow(0px 1px 2px rgba(0, 0, 0, 0.3));\n",
       "      fill: #FFFFFF;\n",
       "    }\n",
       "  </style>\n",
       "\n",
       "      <script>\n",
       "        const buttonEl =\n",
       "          document.querySelector('#df-b94149d7-c2de-4d98-a47e-7fac7ae517e1 button.colab-df-convert');\n",
       "        buttonEl.style.display =\n",
       "          google.colab.kernel.accessAllowed ? 'block' : 'none';\n",
       "\n",
       "        async function convertToInteractive(key) {\n",
       "          const element = document.querySelector('#df-b94149d7-c2de-4d98-a47e-7fac7ae517e1');\n",
       "          const dataTable =\n",
       "            await google.colab.kernel.invokeFunction('convertToInteractive',\n",
       "                                                     [key], {});\n",
       "          if (!dataTable) return;\n",
       "\n",
       "          const docLinkHtml = 'Like what you see? Visit the ' +\n",
       "            '<a target=\"_blank\" href=https://colab.research.google.com/notebooks/data_table.ipynb>data table notebook</a>'\n",
       "            + ' to learn more about interactive tables.';\n",
       "          element.innerHTML = '';\n",
       "          dataTable['output_type'] = 'display_data';\n",
       "          await google.colab.output.renderOutput(dataTable, element);\n",
       "          const docLink = document.createElement('div');\n",
       "          docLink.innerHTML = docLinkHtml;\n",
       "          element.appendChild(docLink);\n",
       "        }\n",
       "      </script>\n",
       "    </div>\n",
       "  </div>\n"
      ],
      "text/plain": [
       "   Avg. Area Income  Avg. Area House Age  Avg. Area Number of Rooms  \\\n",
       "0      79545.458574             5.682861                   7.009188   \n",
       "1      79248.642455             6.002900                   6.730821   \n",
       "2      61287.067179             5.865890                   8.512727   \n",
       "3      63345.240046             7.188236                   5.586729   \n",
       "4      59982.197226             5.040555                   7.839388   \n",
       "\n",
       "   Avg. Area Number of Bedrooms  Area Population         Price  \\\n",
       "0                          4.09     23086.800503  1.059034e+06   \n",
       "1                          3.09     40173.072174  1.505891e+06   \n",
       "2                          5.13     36882.159400  1.058988e+06   \n",
       "3                          3.26     34310.242831  1.260617e+06   \n",
       "4                          4.23     26354.109472  6.309435e+05   \n",
       "\n",
       "                                             Address  \n",
       "0  208 Michael Ferry Apt. 674\\nLaurabury, NE 3701...  \n",
       "1  188 Johnson Views Suite 079\\nLake Kathleen, CA...  \n",
       "2  9127 Elizabeth Stravenue\\nDanieltown, WI 06482...  \n",
       "3                          USS Barnett\\nFPO AP 44820  \n",
       "4                         USNS Raymond\\nFPO AE 09386  "
      ]
     },
     "execution_count": 24,
     "metadata": {},
     "output_type": "execute_result"
    }
   ],
   "source": [
    "df.head()\n"
   ]
  },
  {
   "cell_type": "code",
   "execution_count": 25,
   "metadata": {
    "id": "z7TrvmP0h7zn"
   },
   "outputs": [],
   "source": [
    "df.drop(\"Address\", axis = 1, inplace = True)\n",
    "df.dropna(inplace = True)"
   ]
  },
  {
   "cell_type": "code",
   "execution_count": 26,
   "metadata": {
    "colab": {
     "base_uri": "https://localhost:8080/"
    },
    "id": "yd6sYblCinM6",
    "outputId": "03dfd252-7fb7-4b2b-dd4e-42c276d029da"
   },
   "outputs": [
    {
     "data": {
      "text/plain": [
       "(5000, 6)"
      ]
     },
     "execution_count": 26,
     "metadata": {},
     "output_type": "execute_result"
    }
   ],
   "source": [
    "df.shape"
   ]
  },
  {
   "cell_type": "markdown",
   "metadata": {
    "id": "PMcXel42A_JD"
   },
   "source": [
    "\n",
    ">Now the train data is perfect for a machine learning algorithm:  \n",
    "- all the data is numeric\n",
    "- everything is concatenated together\n",
    "\n",
    "\n",
    "\n",
    "#**  Objective 2 - Machine learning**\n",
    "Next, I will feed these features into various classification algorithms to determine the best performance using a simple framework: **Split, Fit, Predict, Score It.**\n",
    "\n",
    "\n",
    "# Target variables"
   ]
  },
  {
   "cell_type": "code",
   "execution_count": 27,
   "metadata": {
    "colab": {
     "base_uri": "https://localhost:8080/",
     "height": 206
    },
    "id": "LdHNlwnK3jk5",
    "outputId": "2d570b94-296c-4c81-f3db-dc13f9b8487e"
   },
   "outputs": [
    {
     "data": {
      "text/html": [
       "\n",
       "\n",
       "  <div id=\"df-9d944a7a-78ed-4555-8afb-427781ec235a\">\n",
       "    <div class=\"colab-df-container\">\n",
       "      <div>\n",
       "<style scoped>\n",
       "    .dataframe tbody tr th:only-of-type {\n",
       "        vertical-align: middle;\n",
       "    }\n",
       "\n",
       "    .dataframe tbody tr th {\n",
       "        vertical-align: top;\n",
       "    }\n",
       "\n",
       "    .dataframe thead th {\n",
       "        text-align: right;\n",
       "    }\n",
       "</style>\n",
       "<table border=\"1\" class=\"dataframe\">\n",
       "  <thead>\n",
       "    <tr style=\"text-align: right;\">\n",
       "      <th></th>\n",
       "      <th>Avg. Area Income</th>\n",
       "      <th>Avg. Area House Age</th>\n",
       "      <th>Avg. Area Number of Rooms</th>\n",
       "      <th>Avg. Area Number of Bedrooms</th>\n",
       "      <th>Area Population</th>\n",
       "      <th>Price</th>\n",
       "    </tr>\n",
       "  </thead>\n",
       "  <tbody>\n",
       "    <tr>\n",
       "      <th>0</th>\n",
       "      <td>79545.458574</td>\n",
       "      <td>5.682861</td>\n",
       "      <td>7.009188</td>\n",
       "      <td>4.09</td>\n",
       "      <td>23086.800503</td>\n",
       "      <td>1.059034e+06</td>\n",
       "    </tr>\n",
       "    <tr>\n",
       "      <th>1</th>\n",
       "      <td>79248.642455</td>\n",
       "      <td>6.002900</td>\n",
       "      <td>6.730821</td>\n",
       "      <td>3.09</td>\n",
       "      <td>40173.072174</td>\n",
       "      <td>1.505891e+06</td>\n",
       "    </tr>\n",
       "    <tr>\n",
       "      <th>2</th>\n",
       "      <td>61287.067179</td>\n",
       "      <td>5.865890</td>\n",
       "      <td>8.512727</td>\n",
       "      <td>5.13</td>\n",
       "      <td>36882.159400</td>\n",
       "      <td>1.058988e+06</td>\n",
       "    </tr>\n",
       "    <tr>\n",
       "      <th>3</th>\n",
       "      <td>63345.240046</td>\n",
       "      <td>7.188236</td>\n",
       "      <td>5.586729</td>\n",
       "      <td>3.26</td>\n",
       "      <td>34310.242831</td>\n",
       "      <td>1.260617e+06</td>\n",
       "    </tr>\n",
       "    <tr>\n",
       "      <th>4</th>\n",
       "      <td>59982.197226</td>\n",
       "      <td>5.040555</td>\n",
       "      <td>7.839388</td>\n",
       "      <td>4.23</td>\n",
       "      <td>26354.109472</td>\n",
       "      <td>6.309435e+05</td>\n",
       "    </tr>\n",
       "  </tbody>\n",
       "</table>\n",
       "</div>\n",
       "      <button class=\"colab-df-convert\" onclick=\"convertToInteractive('df-9d944a7a-78ed-4555-8afb-427781ec235a')\"\n",
       "              title=\"Convert this dataframe to an interactive table.\"\n",
       "              style=\"display:none;\">\n",
       "\n",
       "  <svg xmlns=\"http://www.w3.org/2000/svg\" height=\"24px\"viewBox=\"0 0 24 24\"\n",
       "       width=\"24px\">\n",
       "    <path d=\"M0 0h24v24H0V0z\" fill=\"none\"/>\n",
       "    <path d=\"M18.56 5.44l.94 2.06.94-2.06 2.06-.94-2.06-.94-.94-2.06-.94 2.06-2.06.94zm-11 1L8.5 8.5l.94-2.06 2.06-.94-2.06-.94L8.5 2.5l-.94 2.06-2.06.94zm10 10l.94 2.06.94-2.06 2.06-.94-2.06-.94-.94-2.06-.94 2.06-2.06.94z\"/><path d=\"M17.41 7.96l-1.37-1.37c-.4-.4-.92-.59-1.43-.59-.52 0-1.04.2-1.43.59L10.3 9.45l-7.72 7.72c-.78.78-.78 2.05 0 2.83L4 21.41c.39.39.9.59 1.41.59.51 0 1.02-.2 1.41-.59l7.78-7.78 2.81-2.81c.8-.78.8-2.07 0-2.86zM5.41 20L4 18.59l7.72-7.72 1.47 1.35L5.41 20z\"/>\n",
       "  </svg>\n",
       "      </button>\n",
       "\n",
       "\n",
       "\n",
       "    <div id=\"df-8571bd90-4653-4df8-b660-5acaecb3be95\">\n",
       "      <button class=\"colab-df-quickchart\" onclick=\"quickchart('df-8571bd90-4653-4df8-b660-5acaecb3be95')\"\n",
       "              title=\"Suggest charts.\"\n",
       "              style=\"display:none;\">\n",
       "\n",
       "<svg xmlns=\"http://www.w3.org/2000/svg\" height=\"24px\"viewBox=\"0 0 24 24\"\n",
       "     width=\"24px\">\n",
       "    <g>\n",
       "        <path d=\"M19 3H5c-1.1 0-2 .9-2 2v14c0 1.1.9 2 2 2h14c1.1 0 2-.9 2-2V5c0-1.1-.9-2-2-2zM9 17H7v-7h2v7zm4 0h-2V7h2v10zm4 0h-2v-4h2v4z\"/>\n",
       "    </g>\n",
       "</svg>\n",
       "      </button>\n",
       "    </div>\n",
       "\n",
       "<style>\n",
       "  .colab-df-quickchart {\n",
       "    background-color: #E8F0FE;\n",
       "    border: none;\n",
       "    border-radius: 50%;\n",
       "    cursor: pointer;\n",
       "    display: none;\n",
       "    fill: #1967D2;\n",
       "    height: 32px;\n",
       "    padding: 0 0 0 0;\n",
       "    width: 32px;\n",
       "  }\n",
       "\n",
       "  .colab-df-quickchart:hover {\n",
       "    background-color: #E2EBFA;\n",
       "    box-shadow: 0px 1px 2px rgba(60, 64, 67, 0.3), 0px 1px 3px 1px rgba(60, 64, 67, 0.15);\n",
       "    fill: #174EA6;\n",
       "  }\n",
       "\n",
       "  [theme=dark] .colab-df-quickchart {\n",
       "    background-color: #3B4455;\n",
       "    fill: #D2E3FC;\n",
       "  }\n",
       "\n",
       "  [theme=dark] .colab-df-quickchart:hover {\n",
       "    background-color: #434B5C;\n",
       "    box-shadow: 0px 1px 3px 1px rgba(0, 0, 0, 0.15);\n",
       "    filter: drop-shadow(0px 1px 2px rgba(0, 0, 0, 0.3));\n",
       "    fill: #FFFFFF;\n",
       "  }\n",
       "</style>\n",
       "\n",
       "    <script>\n",
       "      async function quickchart(key) {\n",
       "        const containerElement = document.querySelector('#' + key);\n",
       "        const charts = await google.colab.kernel.invokeFunction(\n",
       "            'suggestCharts', [key], {});\n",
       "      }\n",
       "    </script>\n",
       "\n",
       "      <script>\n",
       "\n",
       "function displayQuickchartButton(domScope) {\n",
       "  let quickchartButtonEl =\n",
       "    domScope.querySelector('#df-8571bd90-4653-4df8-b660-5acaecb3be95 button.colab-df-quickchart');\n",
       "  quickchartButtonEl.style.display =\n",
       "    google.colab.kernel.accessAllowed ? 'block' : 'none';\n",
       "}\n",
       "\n",
       "        displayQuickchartButton(document);\n",
       "      </script>\n",
       "      <style>\n",
       "    .colab-df-container {\n",
       "      display:flex;\n",
       "      flex-wrap:wrap;\n",
       "      gap: 12px;\n",
       "    }\n",
       "\n",
       "    .colab-df-convert {\n",
       "      background-color: #E8F0FE;\n",
       "      border: none;\n",
       "      border-radius: 50%;\n",
       "      cursor: pointer;\n",
       "      display: none;\n",
       "      fill: #1967D2;\n",
       "      height: 32px;\n",
       "      padding: 0 0 0 0;\n",
       "      width: 32px;\n",
       "    }\n",
       "\n",
       "    .colab-df-convert:hover {\n",
       "      background-color: #E2EBFA;\n",
       "      box-shadow: 0px 1px 2px rgba(60, 64, 67, 0.3), 0px 1px 3px 1px rgba(60, 64, 67, 0.15);\n",
       "      fill: #174EA6;\n",
       "    }\n",
       "\n",
       "    [theme=dark] .colab-df-convert {\n",
       "      background-color: #3B4455;\n",
       "      fill: #D2E3FC;\n",
       "    }\n",
       "\n",
       "    [theme=dark] .colab-df-convert:hover {\n",
       "      background-color: #434B5C;\n",
       "      box-shadow: 0px 1px 3px 1px rgba(0, 0, 0, 0.15);\n",
       "      filter: drop-shadow(0px 1px 2px rgba(0, 0, 0, 0.3));\n",
       "      fill: #FFFFFF;\n",
       "    }\n",
       "  </style>\n",
       "\n",
       "      <script>\n",
       "        const buttonEl =\n",
       "          document.querySelector('#df-9d944a7a-78ed-4555-8afb-427781ec235a button.colab-df-convert');\n",
       "        buttonEl.style.display =\n",
       "          google.colab.kernel.accessAllowed ? 'block' : 'none';\n",
       "\n",
       "        async function convertToInteractive(key) {\n",
       "          const element = document.querySelector('#df-9d944a7a-78ed-4555-8afb-427781ec235a');\n",
       "          const dataTable =\n",
       "            await google.colab.kernel.invokeFunction('convertToInteractive',\n",
       "                                                     [key], {});\n",
       "          if (!dataTable) return;\n",
       "\n",
       "          const docLinkHtml = 'Like what you see? Visit the ' +\n",
       "            '<a target=\"_blank\" href=https://colab.research.google.com/notebooks/data_table.ipynb>data table notebook</a>'\n",
       "            + ' to learn more about interactive tables.';\n",
       "          element.innerHTML = '';\n",
       "          dataTable['output_type'] = 'display_data';\n",
       "          await google.colab.output.renderOutput(dataTable, element);\n",
       "          const docLink = document.createElement('div');\n",
       "          docLink.innerHTML = docLinkHtml;\n",
       "          element.appendChild(docLink);\n",
       "        }\n",
       "      </script>\n",
       "    </div>\n",
       "  </div>\n"
      ],
      "text/plain": [
       "   Avg. Area Income  Avg. Area House Age  Avg. Area Number of Rooms  \\\n",
       "0      79545.458574             5.682861                   7.009188   \n",
       "1      79248.642455             6.002900                   6.730821   \n",
       "2      61287.067179             5.865890                   8.512727   \n",
       "3      63345.240046             7.188236                   5.586729   \n",
       "4      59982.197226             5.040555                   7.839388   \n",
       "\n",
       "   Avg. Area Number of Bedrooms  Area Population         Price  \n",
       "0                          4.09     23086.800503  1.059034e+06  \n",
       "1                          3.09     40173.072174  1.505891e+06  \n",
       "2                          5.13     36882.159400  1.058988e+06  \n",
       "3                          3.26     34310.242831  1.260617e+06  \n",
       "4                          4.23     26354.109472  6.309435e+05  "
      ]
     },
     "execution_count": 27,
     "metadata": {},
     "output_type": "execute_result"
    }
   ],
   "source": [
    "# split the data to be used in the models\n",
    "# create matrix of features\n",
    "\n",
    "x = df.drop(\"Price\", axis = 1) #grab everything else but \"price\"\n",
    "\n",
    "# create target variables\n",
    "y = df['Price'] # y is the column we are trying to predict\n",
    "\n",
    "df.head()\n",
    "\n",
    "\n"
   ]
  },
  {
   "cell_type": "code",
   "execution_count": 28,
   "metadata": {
    "id": "OFt42tFta7v8"
   },
   "outputs": [],
   "source": [
    "from sklearn import preprocessing\n",
    "pre_process = preprocessing.StandardScaler().fit(x)\n",
    "x_transform = pre_process.fit_transform(x)"
   ]
  },
  {
   "cell_type": "code",
   "execution_count": 29,
   "metadata": {
    "id": "aGR1Y5h3bdRU"
   },
   "outputs": [],
   "source": [
    "# pipe = make_pipeline(standardScaler(), LogisticRegression())\n",
    "#pipe.fit(x_train , y_train)\n"
   ]
  },
  {
   "cell_type": "code",
   "execution_count": 30,
   "metadata": {
    "colab": {
     "base_uri": "https://localhost:8080/"
    },
    "id": "GgMneirNbdeM",
    "outputId": "869a5ee8-c2c2-44f0-87c9-4e16f556ee9f"
   },
   "outputs": [
    {
     "data": {
      "text/plain": [
       "array([[ 1.02865969, -0.29692705,  0.02127433,  0.08806222, -1.31759867],\n",
       "       [ 1.00080775,  0.02590164, -0.25550611, -0.72230146,  0.40399945],\n",
       "       [-0.68462916, -0.11230283,  1.5162435 ,  0.93084045,  0.07240989],\n",
       "       ...,\n",
       "       [-0.48723454,  1.28447022, -2.17026949, -1.50025059, -0.29193658],\n",
       "       [-0.05459152, -0.44669439,  0.14154061,  1.18205319,  0.65111608],\n",
       "       [-0.28831272,  0.01521477, -0.19434166,  0.07185495,  1.04162464]])"
      ]
     },
     "execution_count": 30,
     "metadata": {},
     "output_type": "execute_result"
    }
   ],
   "source": [
    "# x represents the features\n",
    "x_transform.shape\n",
    "x_transform"
   ]
  },
  {
   "cell_type": "code",
   "execution_count": 31,
   "metadata": {
    "colab": {
     "base_uri": "https://localhost:8080/"
    },
    "id": "0Zh9okXH4-v7",
    "outputId": "ee699e5c-0b01-4d7b-f3e1-0a8bf52e689f"
   },
   "outputs": [
    {
     "data": {
      "text/plain": [
       "(5000,)"
      ]
     },
     "execution_count": 31,
     "metadata": {},
     "output_type": "execute_result"
    }
   ],
   "source": [
    "y # y represents the target\n",
    "y.shape\n",
    "\n"
   ]
  },
  {
   "cell_type": "code",
   "execution_count": 32,
   "metadata": {
    "id": "wWkqh1kF5JQh"
   },
   "outputs": [],
   "source": [
    "# use x and y variables to split the taining data into train and test set\n",
    "\n",
    "from sklearn.model_selection import train_test_split\n",
    "x_train ,x_test, y_train , y_test = train_test_split(x_transform , y ,test_size = .10 , random_state = 101)"
   ]
  },
  {
   "cell_type": "markdown",
   "metadata": {
    "id": "FbX7pQOcc_ab"
   },
   "source": [
    "# linear regression\n",
    "\n",
    "model training"
   ]
  },
  {
   "cell_type": "code",
   "execution_count": 33,
   "metadata": {
    "colab": {
     "base_uri": "https://localhost:8080/",
     "height": 75
    },
    "id": "WYwQQYk7dFWl",
    "outputId": "2eae1072-1bd9-4c94-d908-f48541e5aa92"
   },
   "outputs": [
    {
     "data": {
      "text/html": [
       "<style>#sk-container-id-1 {color: black;background-color: white;}#sk-container-id-1 pre{padding: 0;}#sk-container-id-1 div.sk-toggleable {background-color: white;}#sk-container-id-1 label.sk-toggleable__label {cursor: pointer;display: block;width: 100%;margin-bottom: 0;padding: 0.3em;box-sizing: border-box;text-align: center;}#sk-container-id-1 label.sk-toggleable__label-arrow:before {content: \"▸\";float: left;margin-right: 0.25em;color: #696969;}#sk-container-id-1 label.sk-toggleable__label-arrow:hover:before {color: black;}#sk-container-id-1 div.sk-estimator:hover label.sk-toggleable__label-arrow:before {color: black;}#sk-container-id-1 div.sk-toggleable__content {max-height: 0;max-width: 0;overflow: hidden;text-align: left;background-color: #f0f8ff;}#sk-container-id-1 div.sk-toggleable__content pre {margin: 0.2em;color: black;border-radius: 0.25em;background-color: #f0f8ff;}#sk-container-id-1 input.sk-toggleable__control:checked~div.sk-toggleable__content {max-height: 200px;max-width: 100%;overflow: auto;}#sk-container-id-1 input.sk-toggleable__control:checked~label.sk-toggleable__label-arrow:before {content: \"▾\";}#sk-container-id-1 div.sk-estimator input.sk-toggleable__control:checked~label.sk-toggleable__label {background-color: #d4ebff;}#sk-container-id-1 div.sk-label input.sk-toggleable__control:checked~label.sk-toggleable__label {background-color: #d4ebff;}#sk-container-id-1 input.sk-hidden--visually {border: 0;clip: rect(1px 1px 1px 1px);clip: rect(1px, 1px, 1px, 1px);height: 1px;margin: -1px;overflow: hidden;padding: 0;position: absolute;width: 1px;}#sk-container-id-1 div.sk-estimator {font-family: monospace;background-color: #f0f8ff;border: 1px dotted black;border-radius: 0.25em;box-sizing: border-box;margin-bottom: 0.5em;}#sk-container-id-1 div.sk-estimator:hover {background-color: #d4ebff;}#sk-container-id-1 div.sk-parallel-item::after {content: \"\";width: 100%;border-bottom: 1px solid gray;flex-grow: 1;}#sk-container-id-1 div.sk-label:hover label.sk-toggleable__label {background-color: #d4ebff;}#sk-container-id-1 div.sk-serial::before {content: \"\";position: absolute;border-left: 1px solid gray;box-sizing: border-box;top: 0;bottom: 0;left: 50%;z-index: 0;}#sk-container-id-1 div.sk-serial {display: flex;flex-direction: column;align-items: center;background-color: white;padding-right: 0.2em;padding-left: 0.2em;position: relative;}#sk-container-id-1 div.sk-item {position: relative;z-index: 1;}#sk-container-id-1 div.sk-parallel {display: flex;align-items: stretch;justify-content: center;background-color: white;position: relative;}#sk-container-id-1 div.sk-item::before, #sk-container-id-1 div.sk-parallel-item::before {content: \"\";position: absolute;border-left: 1px solid gray;box-sizing: border-box;top: 0;bottom: 0;left: 50%;z-index: -1;}#sk-container-id-1 div.sk-parallel-item {display: flex;flex-direction: column;z-index: 1;position: relative;background-color: white;}#sk-container-id-1 div.sk-parallel-item:first-child::after {align-self: flex-end;width: 50%;}#sk-container-id-1 div.sk-parallel-item:last-child::after {align-self: flex-start;width: 50%;}#sk-container-id-1 div.sk-parallel-item:only-child::after {width: 0;}#sk-container-id-1 div.sk-dashed-wrapped {border: 1px dashed gray;margin: 0 0.4em 0.5em 0.4em;box-sizing: border-box;padding-bottom: 0.4em;background-color: white;}#sk-container-id-1 div.sk-label label {font-family: monospace;font-weight: bold;display: inline-block;line-height: 1.2em;}#sk-container-id-1 div.sk-label-container {text-align: center;}#sk-container-id-1 div.sk-container {/* jupyter's `normalize.less` sets `[hidden] { display: none; }` but bootstrap.min.css set `[hidden] { display: none !important; }` so we also need the `!important` here to be able to override the default hidden behavior on the sphinx rendered scikit-learn.org. See: https://github.com/scikit-learn/scikit-learn/issues/21755 */display: inline-block !important;position: relative;}#sk-container-id-1 div.sk-text-repr-fallback {display: none;}</style><div id=\"sk-container-id-1\" class=\"sk-top-container\"><div class=\"sk-text-repr-fallback\"><pre>LinearRegression()</pre><b>In a Jupyter environment, please rerun this cell to show the HTML representation or trust the notebook. <br />On GitHub, the HTML representation is unable to render, please try loading this page with nbviewer.org.</b></div><div class=\"sk-container\" hidden><div class=\"sk-item\"><div class=\"sk-estimator sk-toggleable\"><input class=\"sk-toggleable__control sk-hidden--visually\" id=\"sk-estimator-id-1\" type=\"checkbox\" checked><label for=\"sk-estimator-id-1\" class=\"sk-toggleable__label sk-toggleable__label-arrow\">LinearRegression</label><div class=\"sk-toggleable__content\"><pre>LinearRegression()</pre></div></div></div></div></div>"
      ],
      "text/plain": [
       "LinearRegression()"
      ]
     },
     "execution_count": 33,
     "metadata": {},
     "output_type": "execute_result"
    }
   ],
   "source": [
    "# fit\n",
    "#import model\n",
    "\n",
    "from sklearn.linear_model import LinearRegression\n",
    "from sklearn.pipeline import make_pipeline\n",
    "from sklearn.preprocessing import StandardScaler\n",
    "\n",
    "# create instance of model\n",
    "lin_reg = LinearRegression()\n",
    "\n",
    "# pass training data into model\n",
    "lin_reg.fit(x_train , y_train)\n",
    "\n",
    "# pipe = make_pipeline(StandardScaler(), LinearRegression())\n",
    "# pipe.fit(x_train, y_train)"
   ]
  },
  {
   "cell_type": "markdown",
   "metadata": {
    "id": "DeAIYP9ljJ7E"
   },
   "source": [
    "# model testing\n",
    "\n",
    "# Class prediction"
   ]
  },
  {
   "cell_type": "code",
   "execution_count": 36,
   "metadata": {
    "colab": {
     "base_uri": "https://localhost:8080/"
    },
    "id": "sGYDhw1ADEuG",
    "outputId": "4a8aed7f-a1bd-4a88-e772-9e6f4021d1d1"
   },
   "outputs": [
    {
     "name": "stdout",
     "output_type": "stream",
     "text": [
      "(500,)\n",
      "[1257098.09685349  822086.76211938 1739484.60206384  973128.9269703\n",
      "  993918.45735573  645734.60078803 1074412.81648685  856463.98369062\n",
      " 1445048.63352694 1201847.71924782 1454475.51805013 1296582.98910134\n",
      " 1736858.04511704 1336694.59015483 1386280.00636484 1223122.34992068\n",
      "  615840.78603611  964515.62334817 1222020.63802963 1197532.31828304\n",
      "  506756.96702134 1767894.37065039 1854829.42630351 1198521.37525139\n",
      " 1065384.60130188 1810199.62960618 1767830.26189968 1440162.9747667\n",
      " 1386122.51652193 1539972.94909227  729561.93190619 1754434.69364763\n",
      " 1465273.07428251 1026021.79840116 1283514.57970667  917688.32850804\n",
      " 1185681.03610736 1000137.89595728 1329344.79847155  784262.29954368\n",
      " 1392528.47637802  576569.30274928  823465.14446257 1893895.24014477\n",
      " 1671565.73974773  964720.06183539 1129280.90868273  792574.96874635\n",
      " 1159381.43948676 1473209.24685792 1459527.31772498 1164492.85979007\n",
      " 1098752.99065475 1360158.14296951  843194.09463543  985298.51640372\n",
      " 1123531.58586396 1252412.0965265  1426615.61857719  500001.33879922\n",
      " 1461369.45459794 1106159.93050245  660292.66135475 1247445.62999035\n",
      " 1342358.36869671 1358593.88662128  816281.24876593 1485699.43912885\n",
      " 1397988.12130087  885967.18897815  858477.74593718 1213733.55154629\n",
      " 1102498.29174047 1838200.42229827  924235.35272625  856710.54565038\n",
      "  823276.4801687  1397640.82054047  777050.96350588 1638113.60351908\n",
      " 1079086.7842981  1356632.48703866 1320957.97922806 1197171.56169534\n",
      "  758865.56766536  651243.65975688 1057553.45686797 1383409.62580847\n",
      " 1031206.94285978 1297479.96436114  549966.58750725 1706825.70588201\n",
      "  841736.60986858 1627733.58071671 1050396.70739477  948938.8662303\n",
      " 1187100.16374291 1557010.68230235  901452.48979529  997238.66630778\n",
      " 1223286.22478842 1591630.92327879  978698.81971324 1428351.64549361\n",
      " 1015434.64540644 1446520.00958123  880186.0404033   831008.29349574\n",
      " 1023548.67187725 1845754.47155859 1926387.98073692 1405561.75274305\n",
      " 1042417.73296303 1054544.94444533 1442288.95457485 1029962.22973866\n",
      " 1186409.48222155 1407491.43535053 1265576.36912424 1563843.92084177\n",
      "  765803.98596524 1394401.47089881 2083228.77840481 1468229.3391016\n",
      " 1326314.16349928 1314447.97251762  919625.52785702  782380.97278547\n",
      " 1677493.11398226 1173641.32268421  862979.44977883  829973.19977863\n",
      " 1551093.28053472  814088.07289724  629087.71961831 1229734.68701239\n",
      " 1007824.20235357 1134517.82161144 1760419.70592533 1185969.71043132\n",
      "  590519.77680379 1392510.50251628 1381448.65007235 1725628.39764015\n",
      " 1171125.23144299 1021769.70334065 1732382.78725604 1095320.12186158\n",
      " 1641664.85523504 1424629.01005309 1371128.47438353  958990.41375539\n",
      " 1758291.66064508 1213703.54220089 1230795.71210183  949573.53538962\n",
      " 1241838.9469911  1261011.74538243 1278217.39240556 1125478.75568112\n",
      " 1513182.22578001 1559804.91796782  797449.63707646 1547262.13481217\n",
      " 1278736.64667218 1047589.65787532 1260392.63510119 1646590.02056661\n",
      " 1109660.26873629  476220.07126446 1648679.67617887 1314294.92848799\n",
      " 1664562.48156061 1675635.802361   1690852.64638945 1810535.96006458\n",
      " 1555415.74595769  872651.68179546 1382432.67713302 1587824.08316431\n",
      " 1393209.77217729 1125235.05969292 1454320.69331017  893088.14175259\n",
      "  928601.96609022 1125972.00351154 1189831.64874381 1093887.03013038\n",
      " 1353495.04897812 1105030.47434943 1040464.47604337 1840688.88324952\n",
      " 1270196.36773354 1196823.59374302 1981946.49772917 1172366.75739153\n",
      "  664623.88483996 1515285.38507012 1208961.27628525 1121816.80255302\n",
      " 1735861.12738655  868405.91331759  969754.33748149 1332364.61626223\n",
      "  909142.72410485 1330222.53574544 1265446.28789487  971473.92981152\n",
      " 1241221.36342749 1989212.21941295 1502547.10096327 1143269.98428197\n",
      " 1891128.92719218 1544234.59203089 1257098.83515038 1267528.10814361\n",
      " 1336935.88250422  251726.9272114  1127576.07419982 1253095.0249099\n",
      " 1363828.74528053 1729167.08388109 1046793.19443541 1054433.9078874\n",
      " 1426085.83621469  932556.42647084  867334.13626571 1649516.73877216\n",
      " 1181607.39902886 1340578.5859147   818423.06161122 1561648.87459124\n",
      " 1348930.65490883 1813093.07360363 1262654.37563554 1220567.50862939\n",
      "  649334.5585296  1331335.44444761  394410.55353117 1282814.427801\n",
      " 1354538.01902958 1593773.92074182 1019091.92569429 1155879.3175189\n",
      " 1478767.27050435 1605540.46883885 1335689.46379412 1786774.37883822\n",
      " 1795658.29489351  945957.98521667 1238608.98322097 1131981.47617578\n",
      " 1505069.16566029 1172502.37927637 1573047.28395342 1619486.95952834\n",
      "  331259.66470189  425396.75013721  808174.05455254 1809043.00849025\n",
      " 1161801.19831795 1288807.32649928  487544.10955057 1355465.49519784\n",
      " 1791782.58325609  528717.11671942  894564.97775376 1235034.80182549\n",
      " 1206220.27419067 1142472.9447999  1543751.21151562 1398422.80252626\n",
      "  810341.11375401  917407.46547624 1715661.78405759 1073147.76765764\n",
      " 1264058.5259446  1564587.43621449 1152496.09874073 1086736.25970852\n",
      " 1720484.27065181 1400338.35161276 1096358.38095326 1645314.5772635\n",
      " 1062595.51289076 1730666.42798574 1040247.33594566 1360355.59456415\n",
      " 1346014.52513969 1331649.16135632 1003151.28952913 1344979.98717937\n",
      " 1130910.75681466 1560673.51402866 1705060.84949085 2035370.63838247\n",
      "  833072.33575221 1043358.45412577 1136302.19557687  934173.89793334\n",
      " 1371720.75624963  815174.17610909 1250408.7393702  1363645.94576934\n",
      " 1497641.33792102 2229719.76831283  778318.61180092 1191144.01462899\n",
      " 1095618.57573379 1271396.62565767 1627200.49990593  920094.9626845\n",
      " 1007429.04925062 1593416.75803705  846708.1279599   849909.07877665\n",
      "  573217.41894082 1802975.67121527 1486069.85493797 1683577.6803397\n",
      " 1230926.05811105 1355678.21156351 1096602.20860855 1191749.90356699\n",
      " 1125638.26037736 1084213.15350159 1044089.96186443 2013152.77318278\n",
      "  751261.16757075 1126463.73879896 1353635.28348441 1583241.32570834\n",
      " 1130758.31376519 1127871.86841137 1557684.40694764 1471898.13627882\n",
      " 1169392.40936428 1057647.68682009 1727953.74846075 1097384.12519553\n",
      " 1878448.80906369  950448.33692094  220138.60134662 1469453.18735286\n",
      " 1352042.48661871 1964792.21729304  472146.96240436 1079107.83358809\n",
      " 1397518.51353173 1035224.52411413  789751.71851725 1446225.31748697\n",
      " 1101344.6350542  1691840.14631229 1104612.41352405 1078812.12333312\n",
      " 1709717.21837412 1133935.33824699  873536.14469376  872353.46724263\n",
      "  567716.63610796 1540396.54402919 1214553.41186506 1751381.39581328\n",
      "  777707.72786434 1004818.19756116 1700489.86715185  613824.82073211\n",
      " 1240330.7102607  1591477.92019421 1330047.79218852 1110601.087221\n",
      " 1279717.51895244  897538.10500218  812772.71267423 1550684.7313\n",
      " 1359629.40766711 1253430.62855306 1231368.86844008 1498791.84244174\n",
      "  918340.08794793 1329029.44326931 1090705.37505426  959167.52291122\n",
      " 1062654.67906677  939078.176463    969305.37410474 1044706.24893475\n",
      " 1646826.94297173 1168225.70612086 1312540.05907993 1622518.86963197\n",
      " 1120214.47467815 1293773.61364348 1364121.13844728 1044056.04337946\n",
      " 1044779.48291056 1444510.32908527 1313953.58816088 1055632.97633086\n",
      " 1952741.57332294 1514919.04683016 1204078.30771394 1981914.52294681\n",
      "  681468.69993352 1725226.83333033 1462720.93912084 1413052.0340609\n",
      " 1075596.70791621 1050627.8642522  1204922.41558321  995463.25974538\n",
      " 1088142.0871077   799460.23959754  971819.66648541  802494.5496189\n",
      "  873248.31977911 1377074.66846216 1126769.2165587  1296743.78979604\n",
      " 1428029.90013523 1353571.51503993 1551613.3661825  1870167.36617333\n",
      "  945377.67108676  710790.94715236 1592354.05062387 1457521.68812465\n",
      "  665293.0528918  1741289.90891965 1312595.57962704 1797321.608929\n",
      "  832969.14243004 1301176.01961274 1587725.58333995 1318699.33170176\n",
      " 1666447.72241923  935777.05928719 1701927.58311927 1164155.32273385\n",
      " 1554255.05395568 1203446.87910992 2181118.78739851 1049198.14491456\n",
      " 1085926.99469584  689411.06151653 1223176.10528946 1233904.42213407\n",
      " 1234880.24311795  932266.19802779 1500634.39786314 1274093.63851513\n",
      "  947815.88497822 1223610.51973574 1197160.5130264  1126946.82335696\n",
      " 1430747.46778867  654248.87675389  895866.30446303  295399.69488306\n",
      " 1322125.64281909  805657.05368656 1233978.08798728 1103566.72557378\n",
      "  908568.34660608 1128230.25174061 1744167.88103873  550543.38675743\n",
      "  886966.41486364 1317117.45083867 1103839.68234629 1267179.7653302\n",
      "  772553.19146969 1279534.28313729 1406729.26476247 1438104.85477689\n",
      " 1242822.02294991  976484.33424383  960014.03519111 1406729.66171789\n",
      " 1231876.84185406 1415047.23288106 1040129.89530192  406658.33678653\n",
      " 1832284.91334248  996334.86269578 1601723.84429602 1892875.04811313\n",
      "  838842.80829526  942625.41004584 2020169.2417123   893109.79422868\n",
      " 1103884.05089535 1855738.46260336 1374424.45735476 1347150.96898358\n",
      "  838857.66200893 1868234.85108955 1046613.81767551  837618.09036499]\n"
     ]
    }
   ],
   "source": [
    "#predict\n",
    "y_pred = lin_reg.predict(x_test)\n",
    "print(y_pred.shape)\n",
    "print(y_pred)\n",
    "\n",
    "\n"
   ]
  },
  {
   "cell_type": "code",
   "execution_count": 37,
   "metadata": {
    "colab": {
     "base_uri": "https://localhost:8080/",
     "height": 465
    },
    "id": "vPtap6zH-kly",
    "outputId": "2e8a8b5e-038a-4f50-a1c5-fa884faca43f"
   },
   "outputs": [
    {
     "data": {
      "image/png": "[encoded data removed]",
      "text/plain": [
       "<Figure size 640x480 with 1 Axes>"
      ]
     },
     "metadata": {},
     "output_type": "display_data"
    }
   ],
   "source": [
    "sns.scatterplot(x = y_test , y = y_pred , color = \"blue\", label = \"Actual Data points\")\n",
    "plt.plot([min(y_test), max(y_test)] , [min(y_test),max(y_test)], color =\"red\", label = \"Ideal Line\")\n",
    "plt.legend()\n",
    "plt.show()"
   ]
  },
  {
   "cell_type": "code",
   "execution_count": 38,
   "metadata": {
    "colab": {
     "base_uri": "https://localhost:8080/"
    },
    "id": "Pk10Dwd5Av2J",
    "outputId": "9da39fc0-5611-4c85-9e8a-df2043ebccf2"
   },
   "outputs": [
    {
     "name": "stdout",
     "output_type": "stream",
     "text": [
      "actual values  | predicted values \n",
      "-----------------------\n",
      "    1251688.62  |   1257098.10\n",
      "     873048.32  |    822086.76\n",
      "    1696977.66  |   1739484.60\n",
      "    1063964.29  |    973128.93\n",
      "     948788.28  |    993918.46\n",
      "     730043.65  |    645734.60\n",
      "    1166925.15  |   1074412.82\n",
      "     705444.12  |    856463.98\n",
      "    1499988.88  |   1445048.63\n",
      "    1288199.15  |   1201847.72\n",
      "    1441736.76  |   1454475.52\n",
      "    1279681.15  |   1296582.99\n",
      "    1754969.16  |   1736858.05\n",
      "    1511653.45  |   1336694.59\n",
      "    1441956.20  |   1386280.01\n",
      "    1119992.62  |   1223122.35\n",
      "     727866.53  |    615840.79\n",
      "    1138885.10  |    964515.62\n",
      "    1074263.32  |   1222020.64\n",
      "    1386473.37  |   1197532.32\n",
      "     404643.60  |    506756.97\n",
      "    1449829.49  |   1767894.37\n",
      "    1775874.76  |   1854829.43\n",
      "    1202050.58  |   1198521.38\n",
      "    1105737.46  |   1065384.60\n",
      "    1835564.69  |   1810199.63\n",
      "    1795428.77  |   1767830.26\n",
      "    1424283.37  |   1440162.97\n",
      "    1365945.08  |   1386122.52\n",
      "    1492011.50  |   1539972.95\n",
      "     624432.97  |    729561.93\n",
      "    1827476.20  |   1754434.69\n",
      "    1575680.04  |   1465273.07\n",
      "    1051519.07  |   1026021.80\n",
      "    1454681.94  |   1283514.58\n",
      "     973197.78  |    917688.33\n",
      "    1166750.31  |   1185681.04\n",
      "     883021.90  |   1000137.90\n",
      "    1329800.05  |   1329344.80\n",
      "     743212.42  |    784262.30\n",
      "    1412144.51  |   1392528.48\n",
      "     723750.07  |    576569.30\n",
      "     728402.00  |    823465.14\n",
      "    1845325.36  |   1893895.24\n",
      "    1708127.58  |   1671565.74\n",
      "     922054.13  |    964720.06\n",
      "    1243879.83  |   1129280.91\n",
      "     882057.17  |    792574.97\n",
      "    1050239.90  |   1159381.44\n",
      "    1521141.35  |   1473209.25\n",
      "    1534111.58  |   1459527.32\n",
      "    1221823.70  |   1164492.86\n",
      "    1279803.95  |   1098752.99\n",
      "    1203623.84  |   1360158.14\n",
      "     776906.33  |    843194.09\n",
      "    1143377.60  |    985298.52\n",
      "    1148720.91  |   1123531.59\n",
      "    1129798.37  |   1252412.10\n",
      "    1388596.24  |   1426615.62\n",
      "     727366.95  |    500001.34\n",
      "    1500821.47  |   1461369.45\n",
      "    1059406.13  |   1106159.93\n",
      "     750119.73  |    660292.66\n",
      "    1246830.19  |   1247445.63\n",
      "    1445731.63  |   1342358.37\n",
      "    1352547.69  |   1358593.89\n",
      "     786430.90  |    816281.25\n",
      "    1400498.27  |   1485699.44\n",
      "    1454699.23  |   1397988.12\n",
      "     996924.69  |    885967.19\n",
      "     914325.03  |    858477.75\n",
      "    1324382.18  |   1213733.55\n",
      "    1211442.94  |   1102498.29\n",
      "    1740719.11  |   1838200.42\n",
      "     837540.17  |    924235.35\n",
      "     831471.53  |    856710.55\n",
      "     894203.57  |    823276.48\n",
      "    1295014.62  |   1397640.82\n",
      "     773360.70  |    777050.96\n",
      "    1735826.01  |   1638113.60\n",
      "    1089601.88  |   1079086.78\n",
      "    1560838.45  |   1356632.49\n",
      "    1359762.69  |   1320957.98\n",
      "    1348873.43  |   1197171.56\n",
      "     555811.41  |    758865.57\n",
      "     745523.84  |    651243.66\n",
      "     896303.80  |   1057553.46\n",
      "    1382172.29  |   1383409.63\n",
      "    1027311.51  |   1031206.94\n",
      "    1183272.51  |   1297479.96\n",
      "     674817.54  |    549966.59\n",
      "    1587350.29  |   1706825.71\n",
      "     861013.95  |    841736.61\n",
      "    1456969.58  |   1627733.58\n",
      "     920498.94  |   1050396.71\n",
      "     987004.08  |    948938.87\n",
      "    1237224.86  |   1187100.16\n",
      "    1390870.10  |   1557010.68\n",
      "     814879.21  |    901452.49\n",
      "    1086447.51  |    997238.67\n",
      "    1205212.29  |   1223286.22\n",
      "    1641226.58  |   1591630.92\n",
      "    1101239.49  |    978698.82\n",
      "    1443470.04  |   1428351.65\n",
      "     865816.68  |   1015434.65\n",
      "    1603268.21  |   1446520.01\n",
      "     792449.54  |    880186.04\n",
      "     939040.00  |    831008.29\n",
      "     897479.95  |   1023548.67\n",
      "    1898168.68  |   1845754.47\n",
      "    1877941.97  |   1926387.98\n",
      "    1321388.62  |   1405561.75\n",
      "    1218635.85  |   1042417.73\n",
      "    1046818.07  |   1054544.94\n",
      "    1462422.26  |   1442288.95\n",
      "    1020536.19  |   1029962.23\n",
      "    1356146.26  |   1186409.48\n",
      "    1474546.76  |   1407491.44\n",
      "    1167918.06  |   1265576.37\n",
      "    1794014.30  |   1563843.92\n",
      "     689155.57  |    765803.99\n",
      "    1190213.51  |   1394401.47\n",
      "    2120888.35  |   2083228.78\n",
      "    1472809.49  |   1468229.34\n",
      "    1172188.19  |   1326314.16\n",
      "    1315828.86  |   1314447.97\n",
      "     911656.11  |    919625.53\n",
      "     685775.60  |    782380.97\n",
      "    1856211.35  |   1677493.11\n",
      "    1079000.32  |   1173641.32\n",
      "     936864.69  |    862979.45\n",
      "     714148.41  |    829973.20\n",
      "    1523915.14  |   1551093.28\n",
      "     842235.80  |    814088.07\n",
      "     686644.61  |    629087.72\n",
      "    1085534.18  |   1229734.69\n",
      "    1064939.52  |   1007824.20\n",
      "    1072253.83  |   1134517.82\n",
      "    1760880.45  |   1760419.71\n",
      "    1186019.80  |   1185969.71\n",
      "     481391.64  |    590519.78\n",
      "    1481940.76  |   1392510.50\n",
      "    1574181.73  |   1381448.65\n",
      "    1816152.27  |   1725628.40\n",
      "    1110394.03  |   1171125.23\n",
      "    1030729.58  |   1021769.70\n",
      "    1727982.99  |   1732382.79\n",
      "    1309937.40  |   1095320.12\n",
      "    1554301.94  |   1641664.86\n",
      "    1419536.26  |   1424629.01\n",
      "    1309829.94  |   1371128.47\n",
      "    1012321.57  |    958990.41\n",
      "    1705889.89  |   1758291.66\n",
      "    1028683.04  |   1213703.54\n",
      "    1110525.99  |   1230795.71\n",
      "     839745.68  |    949573.54\n",
      "    1240754.93  |   1241838.95\n",
      "    1341449.57  |   1261011.75\n",
      "    1366405.97  |   1278217.39\n",
      "    1014226.30  |   1125478.76\n",
      "    1512578.55  |   1513182.23\n",
      "    1699952.81  |   1559804.92\n",
      "     925394.14  |    797449.64\n",
      "    1626368.67  |   1547262.13\n",
      "    1280910.19  |   1278736.65\n",
      "    1110931.83  |   1047589.66\n",
      "    1239459.81  |   1260392.64\n",
      "    1676172.30  |   1646590.02\n",
      "     937628.35  |   1109660.27\n",
      "     483986.11  |    476220.07\n",
      "    1473071.95  |   1648679.68\n",
      "    1336377.83  |   1314294.93\n",
      "    1739761.37  |   1664562.48\n",
      "    1599911.37  |   1675635.80\n",
      "    1673294.25  |   1690852.65\n",
      "    1808341.47  |   1810535.96\n",
      "    1669681.23  |   1555415.75\n",
      "     777144.25  |    872651.68\n",
      "    1229702.95  |   1382432.68\n",
      "    1479295.57  |   1587824.08\n",
      "    1213351.63  |   1393209.77\n",
      "    1188255.08  |   1125235.06\n",
      "    1406437.69  |   1454320.69\n",
      "     962591.66  |    893088.14\n",
      "     934408.71  |    928601.97\n",
      "    1098518.13  |   1125972.00\n",
      "    1063069.92  |   1189831.65\n",
      "    1064685.70  |   1093887.03\n",
      "    1404540.76  |   1353495.05\n",
      "    1102821.44  |   1105030.47\n",
      "    1053891.64  |   1040464.48\n",
      "    1817829.53  |   1840688.88\n",
      "    1128045.10  |   1270196.37\n",
      "    1182459.77  |   1196823.59\n",
      "    2050594.05  |   1981946.50\n",
      "    1057697.70  |   1172366.76\n",
      "     533386.77  |    664623.88\n",
      "    1578141.05  |   1515285.39\n",
      "    1239318.13  |   1208961.28\n",
      "    1182670.14  |   1121816.80\n",
      "    1598615.97  |   1735861.13\n",
      "     966084.42  |    868405.91\n",
      "    1025701.59  |    969754.34\n",
      "    1314770.47  |   1332364.62\n",
      "    1128895.12  |    909142.72\n",
      "    1473680.60  |   1330222.54\n",
      "    1440106.86  |   1265446.29\n",
      "     983994.27  |    971473.93\n",
      "    1065907.08  |   1241221.36\n",
      "    2059301.34  |   1989212.22\n",
      "    1471746.56  |   1502547.10\n",
      "    1161457.85  |   1143269.98\n",
      "    1825858.26  |   1891128.93\n",
      "    1693693.55  |   1544234.59\n",
      "    1246791.03  |   1257098.84\n",
      "    1167621.05  |   1267528.11\n",
      "    1405059.64  |   1336935.88\n",
      "     294170.75  |    251726.93\n",
      "    1181663.48  |   1127576.07\n",
      "    1085218.86  |   1253095.02\n",
      "    1418045.72  |   1363828.75\n",
      "    1661592.79  |   1729167.08\n",
      "     980141.22  |   1046793.19\n",
      "     885920.55  |   1054433.91\n",
      "    1445804.83  |   1426085.84\n",
      "     812512.24  |    932556.43\n",
      "     856383.50  |    867334.14\n",
      "    1739893.56  |   1649516.74\n",
      "    1384787.46  |   1181607.40\n",
      "    1353729.53  |   1340578.59\n",
      "     889845.60  |    818423.06\n",
      "    1494241.23  |   1561648.87\n",
      "    1290043.37  |   1348930.65\n",
      "    1813856.31  |   1813093.07\n",
      "    1306207.11  |   1262654.38\n",
      "    1165877.67  |   1220567.51\n",
      "     661043.36  |    649334.56\n",
      "    1273631.27  |   1331335.44\n",
      "     288708.91  |    394410.55\n",
      "    1317234.04  |   1282814.43\n",
      "    1238396.41  |   1354538.02\n",
      "    1605398.57  |   1593773.92\n",
      "     946182.05  |   1019091.93\n",
      "    1073857.07  |   1155879.32\n",
      "    1619721.72  |   1478767.27\n",
      "    1594415.23  |   1605540.47\n",
      "    1210184.02  |   1335689.46\n",
      "    1846350.02  |   1786774.38\n",
      "    1772390.55  |   1795658.29\n",
      "     989643.03  |    945957.99\n",
      "    1087802.89  |   1238608.98\n",
      "    1085101.32  |   1131981.48\n",
      "    1417691.11  |   1505069.17\n",
      "    1397341.86  |   1172502.38\n",
      "    1533492.80  |   1573047.28\n",
      "    1522083.94  |   1619486.96\n",
      "     266298.88  |    331259.66\n",
      "     492984.59  |    425396.75\n",
      "     729989.35  |    808174.05\n",
      "    1562887.22  |   1809043.01\n",
      "     965136.34  |   1161801.20\n",
      "    1249173.69  |   1288807.33\n",
      "     401148.57  |    487544.11\n",
      "    1351007.04  |   1355465.50\n",
      "    1723706.76  |   1791782.58\n",
      "     557228.78  |    528717.12\n",
      "    1000713.59  |    894564.98\n",
      "    1205706.71  |   1235034.80\n",
      "    1288490.27  |   1206220.27\n",
      "    1094574.19  |   1142472.94\n",
      "    1501497.53  |   1543751.21\n",
      "    1421216.50  |   1398422.80\n",
      "     818057.90  |    810341.11\n",
      "     828127.03  |    917407.47\n",
      "    1729559.81  |   1715661.78\n",
      "     982344.81  |   1073147.77\n",
      "    1122083.25  |   1264058.53\n",
      "    1620949.44  |   1564587.44\n",
      "    1176111.79  |   1152496.10\n",
      "    1194191.88  |   1086736.26\n",
      "    1518787.76  |   1720484.27\n",
      "    1385783.52  |   1400338.35\n",
      "    1122240.36  |   1096358.38\n",
      "    1671669.45  |   1645314.58\n",
      "    1135676.18  |   1062595.51\n",
      "    1859883.66  |   1730666.43\n",
      "    1214482.38  |   1040247.34\n",
      "    1506798.75  |   1360355.59\n",
      "    1518706.28  |   1346014.53\n",
      "    1289042.12  |   1331649.16\n",
      "     948366.97  |   1003151.29\n",
      "    1363106.13  |   1344979.99\n",
      "    1232209.48  |   1130910.76\n",
      "    1524621.73  |   1560673.51\n",
      "    1492786.63  |   1705060.85\n",
      "    1976170.09  |   2035370.64\n",
      "     806121.84  |    833072.34\n",
      "     961354.29  |   1043358.45\n",
      "    1202987.83  |   1136302.20\n",
      "     904785.16  |    934173.90\n",
      "    1217021.52  |   1371720.76\n",
      "     854812.26  |    815174.18\n",
      "    1281741.16  |   1250408.74\n",
      "    1446597.12  |   1363645.95\n",
      "    1460450.98  |   1497641.34\n",
      "    2275455.31  |   2229719.77\n",
      "     585608.63  |    778318.61\n",
      "    1178272.30  |   1191144.01\n",
      "    1002974.21  |   1095618.58\n",
      "    1367641.27  |   1271396.63\n",
      "    1580691.62  |   1627200.50\n",
      "     867044.96  |    920094.96\n",
      "    1158171.73  |   1007429.05\n",
      "    1551094.81  |   1593416.76\n",
      "     856261.62  |    846708.13\n",
      "     931358.00  |    849909.08\n",
      "     485533.68  |    573217.42\n",
      "    1869886.31  |   1802975.67\n",
      "    1381117.70  |   1486069.85\n",
      "    1726719.07  |   1683577.68\n",
      "    1244631.52  |   1230926.06\n",
      "    1270047.53  |   1355678.21\n",
      "    1250882.29  |   1096602.21\n",
      "    1228978.23  |   1191749.90\n",
      "    1052567.70  |   1125638.26\n",
      "     963655.58  |   1084213.15\n",
      "    1104701.23  |   1044089.96\n",
      "    2056692.77  |   2013152.77\n",
      "     805433.74  |    751261.17\n",
      "     984349.61  |   1126463.74\n",
      "    1537310.62  |   1353635.28\n",
      "    1481946.19  |   1583241.33\n",
      "    1107077.91  |   1130758.31\n",
      "    1049824.00  |   1127871.87\n",
      "    1656080.09  |   1557684.41\n",
      "    1510659.23  |   1471898.14\n",
      "    1168993.76  |   1169392.41\n",
      "    1014548.23  |   1057647.69\n",
      "    1914072.95  |   1727953.75\n",
      "    1082825.64  |   1097384.13\n",
      "    1919693.23  |   1878448.81\n",
      "    1012768.76  |    950448.34\n",
      "     152071.87  |    220138.60\n",
      "    1394518.42  |   1469453.19\n",
      "    1422195.88  |   1352042.49\n",
      "    1876746.49  |   1964792.22\n",
      "     503065.51  |    472146.96\n",
      "     942838.16  |   1079107.83\n",
      "    1454834.98  |   1397518.51\n",
      "    1037147.47  |   1035224.52\n",
      "     862865.82  |    789751.72\n",
      "    1538039.60  |   1446225.32\n",
      "    1202227.96  |   1101344.64\n",
      "    1748864.71  |   1691840.15\n",
      "    1211110.08  |   1104612.41\n",
      "    1080735.98  |   1078812.12\n",
      "    1591383.74  |   1709717.22\n",
      "    1020145.97  |   1133935.34\n",
      "     905435.84  |    873536.14\n",
      "     847387.21  |    872353.47\n",
      "     583016.79  |    567716.64\n",
      "    1574919.91  |   1540396.54\n",
      "    1282258.09  |   1214553.41\n",
      "    1809154.29  |   1751381.40\n",
      "     744291.03  |    777707.73\n",
      "    1143215.03  |   1004818.20\n",
      "    1558196.97  |   1700489.87\n",
      "     566645.86  |    613824.82\n",
      "    1324470.44  |   1240330.71\n",
      "    1555490.62  |   1591477.92\n",
      "    1347279.21  |   1330047.79\n",
      "    1115549.27  |   1110601.09\n",
      "    1153516.92  |   1279717.52\n",
      "     954114.54  |    897538.11\n",
      "     799124.85  |    812772.71\n",
      "    1638541.94  |   1550684.73\n",
      "    1177744.97  |   1359629.41\n",
      "    1249092.93  |   1253430.63\n",
      "    1323952.03  |   1231368.87\n",
      "    1455737.13  |   1498791.84\n",
      "    1121093.17  |    918340.09\n",
      "    1266747.83  |   1329029.44\n",
      "    1071109.92  |   1090705.38\n",
      "    1116351.75  |    959167.52\n",
      "    1245785.05  |   1062654.68\n",
      "     885204.98  |    939078.18\n",
      "     934111.64  |    969305.37\n",
      "    1155801.25  |   1044706.25\n",
      "    1689690.75  |   1646826.94\n",
      "    1078577.27  |   1168225.71\n",
      "    1045704.70  |   1312540.06\n",
      "    1560693.10  |   1622518.87\n",
      "    1192677.55  |   1120214.47\n",
      "    1474417.27  |   1293773.61\n",
      "    1464710.21  |   1364121.14\n",
      "     883147.47  |   1044056.04\n",
      "    1032043.21  |   1044779.48\n",
      "    1451658.88  |   1444510.33\n",
      "    1068492.61  |   1313953.59\n",
      "    1004430.32  |   1055632.98\n",
      "    1986811.17  |   1952741.57\n",
      "    1617114.94  |   1514919.05\n",
      "    1159953.59  |   1204078.31\n",
      "    1865071.41  |   1981914.52\n",
      "     547918.33  |    681468.70\n",
      "    1872191.55  |   1725226.83\n",
      "    1382998.25  |   1462720.94\n",
      "    1499243.17  |   1413052.03\n",
      "    1056976.97  |   1075596.71\n",
      "    1009854.70  |   1050627.86\n",
      "    1449409.44  |   1204922.42\n",
      "    1073355.78  |    995463.26\n",
      "    1151341.85  |   1088142.09\n",
      "     716344.63  |    799460.24\n",
      "     894251.07  |    971819.67\n",
      "     849008.70  |    802494.55\n",
      "     798639.65  |    873248.32\n",
      "    1450122.72  |   1377074.67\n",
      "    1111710.90  |   1126769.22\n",
      "    1409439.08  |   1296743.79\n",
      "    1521730.79  |   1428029.90\n",
      "    1198725.49  |   1353571.52\n",
      "    1430796.76  |   1551613.37\n",
      "    1924155.58  |   1870167.37\n",
      "     840272.86  |    945377.67\n",
      "     587007.84  |    710790.95\n",
      "    1660295.80  |   1592354.05\n",
      "    1603944.38  |   1457521.69\n",
      "     664465.33  |    665293.05\n",
      "    1792753.50  |   1741289.91\n",
      "    1360908.32  |   1312595.58\n",
      "    1774715.48  |   1797321.61\n",
      "     768541.92  |    832969.14\n",
      "    1206393.18  |   1301176.02\n",
      "    1656401.84  |   1587725.58\n",
      "    1222760.86  |   1318699.33\n",
      "    1550036.52  |   1666447.72\n",
      "     922514.09  |    935777.06\n",
      "    1638969.27  |   1701927.58\n",
      "    1063344.63  |   1164155.32\n",
      "    1591934.19  |   1554255.05\n",
      "    1228362.75  |   1203446.88\n",
      "    2115010.70  |   2181118.79\n",
      "     764756.09  |   1049198.14\n",
      "    1061552.02  |   1085926.99\n",
      "     839194.07  |    689411.06\n",
      "    1290755.04  |   1223176.11\n",
      "    1200653.35  |   1233904.42\n",
      "     990894.05  |   1234880.24\n",
      "     885709.76  |    932266.20\n",
      "    1467271.56  |   1500634.40\n",
      "    1218011.06  |   1274093.64\n",
      "    1051567.95  |    947815.88\n",
      "    1059033.56  |   1223610.52\n",
      "    1220276.55  |   1197160.51\n",
      "    1149524.70  |   1126946.82\n",
      "    1628490.79  |   1430747.47\n",
      "     685355.42  |    654248.88\n",
      "     982790.87  |    895866.30\n",
      "     231189.82  |    295399.69\n",
      "    1166333.89  |   1322125.64\n",
      "     737202.46  |    805657.05\n",
      "    1474466.88  |   1233978.09\n",
      "    1126137.68  |   1103566.73\n",
      "     997827.25  |    908568.35\n",
      "    1047452.51  |   1128230.25\n",
      "    1582261.70  |   1744167.88\n",
      "     449331.58  |    550543.39\n",
      "     886321.02  |    886966.41\n",
      "    1210026.03  |   1317117.45\n",
      "    1204117.42  |   1103839.68\n",
      "    1321257.25  |   1267179.77\n",
      "     652752.97  |    772553.19\n",
      "    1381482.69  |   1279534.28\n",
      "    1522143.64  |   1406729.26\n",
      "    1562573.06  |   1438104.85\n",
      "    1204939.90  |   1242822.02\n",
      "    1047012.27  |    976484.33\n",
      "     999970.68  |    960014.04\n",
      "    1340909.80  |   1406729.66\n",
      "    1347083.07  |   1231876.84\n",
      "    1473278.44  |   1415047.23\n",
      "     943309.45  |   1040129.90\n",
      "     461473.57  |    406658.34\n",
      "    1907859.06  |   1832284.91\n",
      "     863297.18  |    996334.86\n",
      "    1592768.24  |   1601723.84\n",
      "    2054897.01  |   1892875.05\n",
      "     729688.59  |    838842.81\n",
      "     997448.73  |    942625.41\n",
      "    1930143.83  |   2020169.24\n",
      "    1009972.08  |    893109.79\n",
      "     990725.65  |   1103884.05\n",
      "    1869113.61  |   1855738.46\n",
      "    1448995.11  |   1374424.46\n",
      "    1273120.26  |   1347150.97\n",
      "     658646.18  |    838857.66\n",
      "    1749820.01  |   1868234.85\n",
      "    1053484.87  |   1046613.82\n",
      "     809121.11  |    837618.09\n"
     ]
    }
   ],
   "source": [
    "# combine actual and predicted values side by side\n",
    "results = np.column_stack([y_test , y_pred])\n",
    "\n",
    "# printing the results\n",
    "print(\"actual values  | predicted values \")\n",
    "print('-----------------------')\n",
    "for actual , predicted in results:\n",
    "  print(f\"{actual:14.2f}  | {predicted:12.2f}\")"
   ]
  },
  {
   "cell_type": "markdown",
   "metadata": {
    "id": "DZeypT1rGw3n"
   },
   "source": [
    "# residual analysis"
   ]
  },
  {
   "cell_type": "code",
   "execution_count": 39,
   "metadata": {
    "colab": {
     "base_uri": "https://localhost:8080/"
    },
    "id": "0wV4eU76VEc2",
    "outputId": "f033ad22-9cfe-4389-9ec3-40f49c04a169"
   },
   "outputs": [
    {
     "name": "stdout",
     "output_type": "stream",
     "text": [
      "[-4.47976991e+05 -1.29656563e+04 -9.30363496e+05 -1.64007821e+05\n",
      " -1.84797352e+05  1.63386505e+05 -2.65291711e+05 -4.73428778e+04\n",
      " -6.35927528e+05 -3.92726613e+05 -6.45354412e+05 -4.87461883e+05\n",
      " -9.27736939e+05 -5.27573484e+05 -5.77158901e+05 -4.14001244e+05\n",
      "  1.93280320e+05 -1.55394518e+05 -4.12899532e+05 -3.88411212e+05\n",
      "  3.02364139e+05 -9.58773265e+05 -1.04570832e+06 -3.89400269e+05\n",
      " -2.56263495e+05 -1.00107852e+06 -9.58709156e+05 -6.31041869e+05\n",
      " -5.77001411e+05 -7.30851843e+05  7.95591739e+04 -9.45313588e+05\n",
      " -6.56151968e+05 -2.16900693e+05 -4.74393474e+05 -1.08567223e+05\n",
      " -3.76559930e+05 -1.91016790e+05 -5.20223693e+05  2.48588063e+04\n",
      " -5.83407371e+05  2.32551803e+05 -1.43440386e+04 -1.08477413e+06\n",
      " -8.62444634e+05 -1.55598956e+05 -3.20159803e+05  1.65461371e+04\n",
      " -3.50260334e+05 -6.64088141e+05 -6.50406212e+05 -3.55371754e+05\n",
      " -2.89631885e+05 -5.51037037e+05 -3.40729888e+04 -1.76177411e+05\n",
      " -3.14410480e+05 -4.43290991e+05 -6.17494513e+05  3.09119767e+05\n",
      " -6.52248349e+05 -2.97038825e+05  1.48828444e+05 -4.38324524e+05\n",
      " -5.33237263e+05 -5.49472781e+05 -7.16014292e+03 -6.76578333e+05\n",
      " -5.88867015e+05 -7.68460831e+04 -4.93566401e+04 -4.04612446e+05\n",
      " -2.93377186e+05 -1.02907932e+06 -1.15114247e+05 -4.75894398e+04\n",
      " -1.41553743e+04 -5.88519715e+05  3.20701423e+04 -8.28992498e+05\n",
      " -2.69965678e+05 -5.47511381e+05 -5.11836873e+05 -3.88050456e+05\n",
      "  5.02555382e+04  1.57877446e+05 -2.48432351e+05 -5.74288520e+05\n",
      " -2.22085837e+05 -4.88358859e+05  2.59154518e+05 -8.97704600e+05\n",
      " -3.26155040e+04 -8.18612475e+05 -2.41275602e+05 -1.39817760e+05\n",
      " -3.77979058e+05 -7.47889576e+05 -9.23313840e+04 -1.88117560e+05\n",
      " -4.14165119e+05 -7.82509817e+05 -1.69577714e+05 -6.19230540e+05\n",
      " -2.06313540e+05 -6.37398904e+05 -7.10649346e+04 -2.18871877e+04\n",
      " -2.14427566e+05 -1.03663337e+06 -1.11726687e+06 -5.96440647e+05\n",
      " -2.33296627e+05 -2.45423839e+05 -6.33167849e+05 -2.20841124e+05\n",
      " -3.77288376e+05 -5.98370330e+05 -4.56455263e+05 -7.54722815e+05\n",
      "  4.33171199e+04 -5.85280365e+05 -1.27410767e+06 -6.59108233e+05\n",
      " -5.17193058e+05 -5.05326867e+05 -1.10504422e+05  2.67401331e+04\n",
      " -8.68372008e+05 -3.64520217e+05 -5.38583439e+04 -2.08520939e+04\n",
      " -7.41972175e+05 -4.96696705e+03  1.80033386e+05 -4.20613581e+05\n",
      " -1.98703097e+05 -3.25396716e+05 -9.51298600e+05 -3.76848605e+05\n",
      "  2.18601329e+05 -5.83389397e+05 -5.72327544e+05 -9.16507292e+05\n",
      " -3.62004126e+05 -2.12648597e+05 -9.23261681e+05 -2.86199016e+05\n",
      " -8.32543749e+05 -6.15507904e+05 -5.62007369e+05 -1.49869308e+05\n",
      " -9.49170555e+05 -4.04582436e+05 -4.21674606e+05 -1.40452430e+05\n",
      " -4.32717841e+05 -4.51890640e+05 -4.69096287e+05 -3.16357650e+05\n",
      " -7.04061120e+05 -7.50683812e+05  1.16714688e+04 -7.38141029e+05\n",
      " -4.69615541e+05 -2.38468552e+05 -4.51271529e+05 -8.37468915e+05\n",
      " -3.00539163e+05  3.32901035e+05 -8.39558570e+05 -5.05173823e+05\n",
      " -8.55441376e+05 -8.66514697e+05 -8.81731541e+05 -1.00141485e+06\n",
      " -7.46294640e+05 -6.35305760e+04 -5.73311571e+05 -7.78702977e+05\n",
      " -5.84088666e+05 -3.16113954e+05 -6.45199587e+05 -8.39670359e+04\n",
      " -1.19480860e+05 -3.16850898e+05 -3.80710543e+05 -2.84765924e+05\n",
      " -5.44373943e+05 -2.95909369e+05 -2.31343370e+05 -1.03156778e+06\n",
      " -4.61075262e+05 -3.87702488e+05 -1.17282539e+06 -3.63245652e+05\n",
      "  1.44497221e+05 -7.06164279e+05 -3.99840170e+05 -3.12695697e+05\n",
      " -9.26740022e+05 -5.92848075e+04 -1.60633232e+05 -5.23243510e+05\n",
      " -1.00021618e+05 -5.21101430e+05 -4.56325182e+05 -1.62352824e+05\n",
      " -4.32100258e+05 -1.18009111e+06 -6.93425995e+05 -3.34148878e+05\n",
      " -1.08200782e+06 -7.35113486e+05 -4.47977729e+05 -4.58407002e+05\n",
      " -5.27814777e+05  5.57394179e+05 -3.18454968e+05 -4.43973919e+05\n",
      " -5.54707639e+05 -9.20045978e+05 -2.37672089e+05 -2.45312802e+05\n",
      " -6.16964730e+05 -1.23435321e+05 -5.82130304e+04 -8.40395633e+05\n",
      " -3.72486293e+05 -5.31457480e+05 -9.30195577e+03 -7.52527769e+05\n",
      " -5.39809549e+05 -1.00397197e+06 -4.53533270e+05 -4.11446403e+05\n",
      "  1.59786547e+05 -5.22214339e+05  4.14710552e+05 -4.73693322e+05\n",
      " -5.45416913e+05 -7.84652815e+05 -2.09970820e+05 -3.46758212e+05\n",
      " -6.69646165e+05 -7.96419363e+05 -5.26568358e+05 -9.77653273e+05\n",
      " -9.86537189e+05 -1.36836879e+05 -4.29487877e+05 -3.22860370e+05\n",
      " -6.95948060e+05 -3.63381273e+05 -7.63926178e+05 -8.10365854e+05\n",
      "  4.77861441e+05  3.83724356e+05  9.47051291e+02 -9.99921903e+05\n",
      " -3.52680092e+05 -4.79686221e+05  3.21576996e+05 -5.46344389e+05\n",
      " -9.82661477e+05  2.80403989e+05 -8.54438719e+04 -4.25913696e+05\n",
      " -3.97099168e+05 -3.33351839e+05 -7.34630106e+05 -5.89301697e+05\n",
      " -1.22000791e+03 -1.08286360e+05 -9.06540678e+05 -2.64026662e+05\n",
      " -4.54937420e+05 -7.55466330e+05 -3.43374993e+05 -2.77615154e+05\n",
      " -9.11363165e+05 -5.91217246e+05 -2.87237275e+05 -8.36193471e+05\n",
      " -2.53474407e+05 -9.21545322e+05 -2.31126230e+05 -5.51234489e+05\n",
      " -5.36893419e+05 -5.22528056e+05 -1.94030184e+05 -5.35858881e+05\n",
      " -3.21789651e+05 -7.51552408e+05 -8.95939744e+05 -1.22624953e+06\n",
      " -2.39512299e+04 -2.34237348e+05 -3.27181090e+05 -1.25052792e+05\n",
      " -5.62599650e+05 -6.05307027e+03 -4.41287634e+05 -5.54524840e+05\n",
      " -6.88520232e+05 -1.42059866e+06  3.08024940e+04 -3.82022909e+05\n",
      " -2.86497470e+05 -4.62275520e+05 -8.18079394e+05 -1.10973857e+05\n",
      " -1.98307943e+05 -7.84295652e+05 -3.75870221e+04 -4.07879729e+04\n",
      "  2.35903687e+05 -9.93854565e+05 -6.76948749e+05 -8.74456574e+05\n",
      " -4.21804952e+05 -5.46557106e+05 -2.87481103e+05 -3.82628798e+05\n",
      " -3.16517155e+05 -2.75092048e+05 -2.34968856e+05 -1.20403167e+06\n",
      "  5.78599383e+04 -3.17342633e+05 -5.44514178e+05 -7.74120220e+05\n",
      " -3.21637208e+05 -3.18750763e+05 -7.48563301e+05 -6.62777030e+05\n",
      " -3.60271304e+05 -2.48526581e+05 -9.18832643e+05 -2.88263019e+05\n",
      " -1.06932770e+06 -1.41327231e+05  5.88982504e+05 -6.60332082e+05\n",
      " -5.42921381e+05 -1.15567111e+06  3.36974143e+05 -2.69986728e+05\n",
      " -5.88397408e+05 -2.26103418e+05  1.93693873e+04 -6.37104212e+05\n",
      " -2.92223529e+05 -8.82719040e+05 -2.95491308e+05 -2.69691017e+05\n",
      " -9.00596113e+05 -3.24814232e+05 -6.44150389e+04 -6.32323614e+04\n",
      "  2.41404470e+05 -7.31275438e+05 -4.05432306e+05 -9.42260290e+05\n",
      "  3.14133780e+04 -1.95697092e+05 -8.91368761e+05  1.95296285e+05\n",
      " -4.31209604e+05 -7.82356814e+05 -5.20926686e+05 -3.01479981e+05\n",
      " -4.70596413e+05 -8.84169992e+04 -3.65160683e+03 -7.41563625e+05\n",
      " -5.50508302e+05 -4.44309523e+05 -4.22247763e+05 -6.89670737e+05\n",
      " -1.09218982e+05 -5.19908337e+05 -2.81584269e+05 -1.50046417e+05\n",
      " -2.53533573e+05 -1.29957071e+05 -1.60184268e+05 -2.35585143e+05\n",
      " -8.37705837e+05 -3.59104600e+05 -5.03418953e+05 -8.13397764e+05\n",
      " -3.11093369e+05 -4.84652508e+05 -5.55000033e+05 -2.34934938e+05\n",
      " -2.35658377e+05 -6.35389223e+05 -5.04832482e+05 -2.46511870e+05\n",
      " -1.14362047e+06 -7.05797941e+05 -3.94957202e+05 -1.17279342e+06\n",
      "  1.27652406e+05 -9.16105727e+05 -6.53599833e+05 -6.03930928e+05\n",
      " -2.66475602e+05 -2.41506758e+05 -3.95801310e+05 -1.86342154e+05\n",
      " -2.79020981e+05  9.66086625e+03 -1.62698561e+05  6.62655622e+03\n",
      " -6.41272139e+04 -5.67953563e+05 -3.17648111e+05 -4.87622684e+05\n",
      " -6.18908794e+05 -5.44450409e+05 -7.42492260e+05 -1.06104626e+06\n",
      " -1.36256565e+05  9.83301587e+04 -7.83232945e+05 -6.48400582e+05\n",
      "  1.43828053e+05 -9.32168803e+05 -5.03474474e+05 -9.88200503e+05\n",
      " -2.38480366e+04 -4.92054914e+05 -7.78604477e+05 -5.09578226e+05\n",
      " -8.57326617e+05 -1.26655953e+05 -8.92806477e+05 -3.55034217e+05\n",
      " -7.45133948e+05 -3.94325773e+05 -1.37199768e+06 -2.40077039e+05\n",
      " -2.76805889e+05  1.19710044e+05 -4.14054999e+05 -4.24783316e+05\n",
      " -4.25759137e+05 -1.23145092e+05 -6.91513292e+05 -4.64972533e+05\n",
      " -1.38694779e+05 -4.14489414e+05 -3.88039407e+05 -3.17825718e+05\n",
      " -6.21626362e+05  1.54872229e+05 -8.67451986e+04  5.13721411e+05\n",
      " -5.13004537e+05  3.46405216e+03 -4.24856982e+05 -2.94445620e+05\n",
      " -9.94472408e+04 -3.19109146e+05 -9.35046775e+05  2.58577719e+05\n",
      " -7.78453090e+04 -5.07996345e+05 -2.94718577e+05 -4.58058659e+05\n",
      "  3.65679144e+04 -4.70413177e+05 -5.97608159e+05 -6.28983749e+05\n",
      " -4.33700917e+05 -1.67363228e+05 -1.50892929e+05 -5.97608556e+05\n",
      " -4.22755736e+05 -6.05926127e+05 -2.31008789e+05  4.02462769e+05\n",
      " -1.02316381e+06 -1.87213757e+05 -7.92602738e+05 -1.08375394e+06\n",
      " -2.97217025e+04 -1.33504304e+05 -1.21104814e+06 -8.39886884e+04\n",
      " -2.94762945e+05 -1.04661736e+06 -5.65303352e+05 -5.38029863e+05\n",
      " -2.97365562e+04 -1.05911375e+06 -2.37492712e+05 -2.84969845e+04]\n"
     ]
    }
   ],
   "source": [
    "# residual analysis\n",
    "\n",
    "residual = actual - y_pred.reshape(-1)\n",
    "print(residual)"
   ]
  },
  {
   "cell_type": "code",
   "execution_count": 40,
   "metadata": {
    "colab": {
     "base_uri": "https://localhost:8080/",
     "height": 671
    },
    "id": "_GeBkuFyWI2o",
    "outputId": "3fef04e3-9d24-45e2-a32a-480a22edee36"
   },
   "outputs": [
    {
     "name": "stderr",
     "output_type": "stream",
     "text": [
      "<ipython-input-40-c60619e04053>:3: UserWarning: \n",
      "\n",
      "`distplot` is a deprecated function and will be removed in seaborn v0.14.0.\n",
      "\n",
      "Please adapt your code to use either `displot` (a figure-level function with\n",
      "similar flexibility) or `histplot` (an axes-level function for histograms).\n",
      "\n",
      "For a guide to updating your code to use the new functions, please see\n",
      "https://gist.github.com/mwaskom/de44147ed2974457ad6372750bbe5751\n",
      "\n",
      "  sns.distplot(residual , kde =True)\n"
     ]
    },
    {
     "data": {
      "text/plain": [
       "<Axes: ylabel='Density'>"
      ]
     },
     "execution_count": 40,
     "metadata": {},
     "output_type": "execute_result"
    },
    {
     "data": {
      "image/png": "[encoded data removed]",
      "text/plain": [
       "<Figure size 640x480 with 1 Axes>"
      ]
     },
     "metadata": {},
     "output_type": "display_data"
    }
   ],
   "source": [
    "#distribution plot for residual (differences between actual values and predicted values)\n",
    "\n",
    "sns.distplot(residual , kde =True)\n"
   ]
  },
  {
   "cell_type": "markdown",
   "metadata": {
    "id": "loCIpJIHW750"
   },
   "source": [
    "# model evaluation\n"
   ]
  },
  {
   "cell_type": "code",
   "execution_count": 41,
   "metadata": {
    "colab": {
     "base_uri": "https://localhost:8080/"
    },
    "id": "geiwtCmoW-__",
    "outputId": "b51b6b44-963f-4be8-b180-6effb1a7c689"
   },
   "outputs": [
    {
     "name": "stdout",
     "output_type": "stream",
     "text": [
      "linear regression model\n",
      "--------------------\n",
      "mean squared error : 9839952411.801708\n",
      "root mean squared error : 99196.53427313732\n"
     ]
    }
   ],
   "source": [
    "#score it\n",
    "from sklearn.metrics import mean_squared_error\n",
    "\n",
    "print(\"linear regression model\")\n",
    "# results\n",
    "print(\"--\"*10)\n",
    "\n",
    "#mean_squared_error(y_test , y_pred)\n",
    "mse = mean_squared_error(y_test , y_pred)\n",
    "rmse = np.sqrt(mse)\n",
    "\n",
    "# printing the evaluation metrics\n",
    "print(\"mean squared error :\", mse)\n",
    "print(\"root mean squared error :\", rmse)\n"
   ]
  },
  {
   "cell_type": "markdown",
   "metadata": {
    "id": "M-vRc2WsIDpt"
   },
   "source": [
    "## **Model Evaluation**\n",
    "\n",
    "# **Linear Regression**"
   ]
  },
  {
   "cell_type": "code",
   "execution_count": 42,
   "metadata": {
    "colab": {
     "base_uri": "https://localhost:8080/"
    },
    "id": "PkOek25nXqA8",
    "outputId": "44130b47-f232-4233-b4c1-720fee26cef3"
   },
   "outputs": [
    {
     "name": "stdout",
     "output_type": "stream",
     "text": [
      "linear regression model\n",
      "------------------------------------------------------------\n",
      "Mean Squared Error: 9839952411.801708\n",
      "Root Mean Squared Error: 99196.53427313732\n"
     ]
    }
   ],
   "source": [
    "# score it\n",
    "\n",
    "from sklearn.metrics import mean_squared_error\n",
    "\n",
    "print(\"linear regression model\")\n",
    "\n",
    "# results\n",
    "print('--'*30)\n",
    "# mean_squared_error(y_test, y_pred)\n",
    "mse = mean_squared_error(y_test, y_pred)\n",
    "rmse = np.sqrt(mse)\n",
    "\n",
    "# Print evaluation metrics\n",
    "print(\"Mean Squared Error:\", mse)\n",
    "print(\"Root Mean Squared Error:\", rmse)"
   ]
  },
  {
   "cell_type": "code",
   "execution_count": null,
   "metadata": {
    "id": "3DURuW2MkG9a"
   },
   "outputs": [],
   "source": [
    "# Linear Regression Model\n",
    "# ------------------------------------------------------------\n",
    "# Mean Squared Error: 10100187858.864885\n",
    "# Root Mean Squared Error: 100499.69083964829\n",
    "\n",
    "\n",
    "# 10170939558"
   ]
  },
  {
   "cell_type": "code",
   "execution_count": 43,
   "metadata": {
    "colab": {
     "base_uri": "https://localhost:8080/"
    },
    "id": "z0nFPMPqkP1z",
    "outputId": "ecdbfa1b-7bee-4992-fe3d-4a9beba9e1aa"
   },
   "outputs": [
    {
     "name": "stdout",
     "output_type": "stream",
     "text": [
      "260235447\n"
     ]
    }
   ],
   "source": [
    "s = 10100187858 - 9839952411\n",
    "print(s)"
   ]
  },
  {
   "cell_type": "code",
   "execution_count": 44,
   "metadata": {
    "colab": {
     "base_uri": "https://localhost:8080/"
    },
    "id": "nTSHTabE_EIF",
    "outputId": "8ca168f2-2701-4066-a80d-18b884f6b8c6"
   },
   "outputs": [
    {
     "data": {
      "text/plain": [
       "(4500,)"
      ]
     },
     "execution_count": 44,
     "metadata": {},
     "output_type": "execute_result"
    }
   ],
   "source": [
    "y_train.shape"
   ]
  },
  {
   "cell_type": "markdown",
   "metadata": {
    "id": "6Yo8TuOJ_Kjo"
   },
   "source": [
    "# Decision tree"
   ]
  },
  {
   "cell_type": "code",
   "execution_count": 46,
   "metadata": {
    "colab": {
     "base_uri": "https://localhost:8080/"
    },
    "id": "sbWpOoWK_IDu",
    "outputId": "87e8ce58-ddc9-434f-9984-0d3283eea8a5"
   },
   "outputs": [
    {
     "name": "stdout",
     "output_type": "stream",
     "text": [
      "Decision Tree Regression :  31839261795.20042\n"
     ]
    }
   ],
   "source": [
    "from sklearn.tree import DecisionTreeRegressor\n",
    "from sklearn.ensemble import RandomForestRegressor\n",
    "\n",
    "rf_regressor = DecisionTreeRegressor()\n",
    "rf_regressor.fit(x_train,y_train)\n",
    "\n",
    "#Predicting the SalePrices using test set\n",
    "y_pred_rf = rf_regressor.predict(x_test)\n",
    "\n",
    "DTr = mean_squared_error(y_pred_rf,y_test)\n",
    "#Random Forest Regression Accuracy with test set\n",
    "print('Decision Tree Regression : ',DTr)"
   ]
  },
  {
   "cell_type": "markdown",
   "metadata": {
    "id": "e8sWUpus_UsF"
   },
   "source": [
    "# Random Forest"
   ]
  },
  {
   "cell_type": "code",
   "execution_count": 47,
   "metadata": {
    "colab": {
     "base_uri": "https://localhost:8080/"
    },
    "id": "aSWDcbsv_NP9",
    "outputId": "197b8557-b0da-4b77-812c-28f55f93bb87"
   },
   "outputs": [
    {
     "name": "stdout",
     "output_type": "stream",
     "text": [
      "Random Forest Regression :  14543570705.693058\n"
     ]
    }
   ],
   "source": [
    "from sklearn.tree import DecisionTreeRegressor\n",
    "from sklearn.ensemble import RandomForestRegressor\n",
    "\n",
    "rf_regressor = RandomForestRegressor()\n",
    "rf_regressor.fit(x_train,y_train)\n",
    "\n",
    "#Predicting the SalePrices using test set\n",
    "y_pred_rf = rf_regressor.predict(x_test)\n",
    "RFr = mean_squared_error(y_pred_rf,y_test)\n",
    "#Random Forest Regression Accuracy with test set\n",
    "print('Random Forest Regression : ',RFr)"
   ]
  },
  {
   "cell_type": "markdown",
   "metadata": {
    "id": "nOlkByPS_g3A"
   },
   "source": [
    "# **Gradient Boosting Regression**"
   ]
  },
  {
   "cell_type": "code",
   "execution_count": 48,
   "metadata": {
    "colab": {
     "base_uri": "https://localhost:8080/"
    },
    "id": "KKu7D0JZ_ZLg",
    "outputId": "d4a880cb-a963-4789-f00c-2c6894fd0bb8"
   },
   "outputs": [
    {
     "name": "stdout",
     "output_type": "stream",
     "text": [
      "Gradient Boosting Regression :  12028145529.775711\n"
     ]
    }
   ],
   "source": [
    "from sklearn.tree import DecisionTreeRegressor\n",
    "from sklearn.ensemble import RandomForestRegressor\n",
    "from sklearn.ensemble import GradientBoostingRegressor\n",
    "\n",
    "rf_regressor = GradientBoostingRegressor()\n",
    "rf_regressor.fit(x_train,y_train)\n",
    "\n",
    "#Predicting the SalePrices using test set\n",
    "y_pred_rf = rf_regressor.predict(x_test)\n",
    "\n",
    "#Random Forest Regression Accuracy with test set\n",
    "GBr = mean_squared_error(y_pred_rf,y_test)\n",
    "print('Gradient Boosting Regression : ',GBr)"
   ]
  },
  {
   "cell_type": "code",
   "execution_count": 49,
   "metadata": {
    "colab": {
     "base_uri": "https://localhost:8080/"
    },
    "id": "l-1-lMDc_k37",
    "outputId": "fb477639-3937-4c5a-b0b6-cf5e04adfd0d"
   },
   "outputs": [
    {
     "name": "stdout",
     "output_type": "stream",
     "text": [
      "Model Rankings (lower values are better):\n",
      "1. Linear Regression: 9839952411.801708\n",
      "2. Gradient Boosting: 12029643835.717766\n",
      "3. Random Forest: 14315329749.65445\n",
      "4. Descison Tree: 29698988724.82603\n"
     ]
    }
   ],
   "source": [
    "# Sample model scores (replace these with your actual model scores)\n",
    "model_scores = {\n",
    "    \"Linear Regression\": 9839952411.801708,\n",
    "    \"Descison Tree\": 29698988724.82603,\n",
    "    \"Random Forest\":14315329749.65445,\n",
    "    \"Gradient Boosting\": 12029643835.717766\n",
    "}\n",
    "\n",
    "# Sort the model scores in ascending order based on their values (lower values first)\n",
    "sorted_scores = sorted(model_scores.items(), key=lambda x: x[1])\n",
    "\n",
    "# Display the ranking of the models\n",
    "print(\"Model Rankings (lower values are better):\")\n",
    "for rank, (model_name, score) in enumerate(sorted_scores, start=1):\n",
    "    print(f\"{rank}. {model_name}: {score}\")\n"
   ]
  },
  {
   "cell_type": "code",
   "execution_count": null,
   "metadata": {
    "id": "cNTy7cbp_nIy"
   },
   "outputs": [],
   "source": []
  }
 ],
 "metadata": {
  "colab": {
   "provenance": []
  },
  "kernelspec": {
   "display_name": "Python 3 (ipykernel)",
   "language": "python",
   "name": "python3"
  },
  "language_info": {
   "codemirror_mode": {
    "name": "ipython",
    "version": 3
   },
   "file_extension": ".py",
   "mimetype": "text/x-python",
   "name": "python",
   "nbconvert_exporter": "python",
   "pygments_lexer": "ipython3",
   "version": "3.10.9"
  }
 },
 "nbformat": 4,
 "nbformat_minor": 1
}
